{
  "cells": [
    {
      "cell_type": "markdown",
      "source": [
        "# IMPORTANT\n",
        "This notebook is to demonstrate how EDA of this notebook can be done in SQL rather than just Pandas and for the author's (Jacob Zimmerman's) learning purposes. It is **NOT** the full notebook. Most code that was unnecessary to completing the SQL versions of EDA tasks has been ommitted. The full notebook, containing modeling, extensive analyses, and detailed visualizations, is located [here](https://github.com/jakezimm12/Open-Food-Facts-EDA-and-Nutritional-Value-Modeling). Note, I do not use SQL to redo every EDA operation or to redo any of the cleaning because it was oftentimes quite simple. To just see the SQL, skip the 'Cleaning the Data' section and scroll to the 'EDA' section (or click the link in the table of contents on the left in Collab)."
      ],
      "metadata": {
        "id": "JrXM0VHR9Ds1"
      }
    },
    {
      "cell_type": "markdown",
      "source": [
        "# CIS 5450 Group Project\n",
        "Note, the SQL versions of EDA tasks were written by Jacob Zimmerman using PandasSQL and SQLite.\n",
        "\n",
        "By Alberto Gaytan, Jacob Zimmerman, and Jingxian Qiu <br>\n",
        "15 December 2022"
      ],
      "metadata": {
        "id": "6Dt8CMJzx1Jv"
      }
    },
    {
      "cell_type": "markdown",
      "source": [
        "### Setup\n",
        "Please copy \"entire_brand_df.csv\" to your general \"My Drive\" (not within a folder), and make sure it maintains its name: https://drive.google.com/file/d/1--CA88tj8XvEnb-BAZmbkkF_7xwu2Aya/view?usp=sharing\n",
        "\n"
      ],
      "metadata": {
        "id": "t5OKxGww6Mvh"
      }
    },
    {
      "cell_type": "markdown",
      "source": [
        "We are using a Kaggle dataset.\n",
        "\n",
        "To get the data in here:\n",
        "1. Go to this [Kaggle link](https://www.kaggle.com) and create a Kaggle account (unless you already have an account)\n",
        "2. Go to Account and click on \"Create New API Token\" to get the API key in the form of a json file `kaggle.json`\n",
        "3. Upload the `kaggle.json` file to the default location in your Google Drive (Don't upload the json file into any _specific_ folder.)."
      ],
      "metadata": {
        "id": "Vnk8ezQGAnVj"
      }
    },
    {
      "cell_type": "markdown",
      "source": [
        "### Motivation: Predicting Nutrition Scores from Open Food Facts Data\n",
        "With rates of health related issues stemming from a poor diet increasing in recent times, awareness of the need to place greater importance on nutrition has followed. The Open Food Facts database, being open to the public, is likely to be a primary candidate for those looking to analyze what foods they should maintain in their diet and which to cut out. The primary goal of this notebook is to uncover insights about the nutritional value of a product based on its characteristics and to figure out the best way to predict a new product's nutrition score given that we have certain (Open-Food-Facts-like) features about the new product.\n",
        "\n",
        "Note, we use the nutritional scores provided in the dataset as our measure of nutritional value. A higher nutrition score means less healthy (officially, it means the product has \"less nutritional quality,\" but we use \"healthy\" and \"higher nutritional quality\" interchangeably throughout this analysis, which we believe is a reasonable assumption to make). The score ranges from -15 to 40. Learn more here: https://get.apicbase.com/nutri-score-science-based-nutritional-value-labelling-system/\n"
      ],
      "metadata": {
        "id": "q_xCOlAvnFoP"
      }
    },
    {
      "cell_type": "code",
      "execution_count": 312,
      "metadata": {
        "colab": {
          "base_uri": "https://localhost:8080/"
        },
        "id": "05A4KiGwPJ-G",
        "outputId": "b6121b8c-3be6-4ab2-985f-e40d6e420d23"
      },
      "outputs": [
        {
          "output_type": "stream",
          "name": "stdout",
          "text": [
            "Looking in indexes: https://pypi.org/simple, https://us-python.pkg.dev/colab-wheels/public/simple/\n",
            "Requirement already satisfied: pandasql in /usr/local/lib/python3.8/dist-packages (0.7.3)\n",
            "Requirement already satisfied: pandas in /usr/local/lib/python3.8/dist-packages (from pandasql) (1.3.5)\n",
            "Requirement already satisfied: numpy in /usr/local/lib/python3.8/dist-packages (from pandasql) (1.21.6)\n",
            "Requirement already satisfied: sqlalchemy in /usr/local/lib/python3.8/dist-packages (from pandasql) (1.4.45)\n",
            "Requirement already satisfied: pytz>=2017.3 in /usr/local/lib/python3.8/dist-packages (from pandas->pandasql) (2022.6)\n",
            "Requirement already satisfied: python-dateutil>=2.7.3 in /usr/local/lib/python3.8/dist-packages (from pandas->pandasql) (2.8.2)\n",
            "Requirement already satisfied: six>=1.5 in /usr/local/lib/python3.8/dist-packages (from python-dateutil>=2.7.3->pandas->pandasql) (1.15.0)\n",
            "Requirement already satisfied: greenlet!=0.4.17 in /usr/local/lib/python3.8/dist-packages (from sqlalchemy->pandasql) (2.0.1)\n",
            "Looking in indexes: https://pypi.org/simple, https://us-python.pkg.dev/colab-wheels/public/simple/\n",
            "Requirement already satisfied: py_stringsimjoin in /usr/local/lib/python3.8/dist-packages (0.3.2)\n",
            "Requirement already satisfied: six in /usr/local/lib/python3.8/dist-packages (from py_stringsimjoin) (1.15.0)\n",
            "Requirement already satisfied: py-stringmatching>=0.2.1 in /usr/local/lib/python3.8/dist-packages (from py_stringsimjoin) (0.4.2)\n",
            "Requirement already satisfied: pandas>=0.16.0 in /usr/local/lib/python3.8/dist-packages (from py_stringsimjoin) (1.3.5)\n",
            "Requirement already satisfied: PyPrind>=2.9.3 in /usr/local/lib/python3.8/dist-packages (from py_stringsimjoin) (2.11.3)\n",
            "Requirement already satisfied: joblib in /usr/local/lib/python3.8/dist-packages (from py_stringsimjoin) (1.2.0)\n",
            "Requirement already satisfied: python-dateutil>=2.7.3 in /usr/local/lib/python3.8/dist-packages (from pandas>=0.16.0->py_stringsimjoin) (2.8.2)\n",
            "Requirement already satisfied: numpy>=1.17.3 in /usr/local/lib/python3.8/dist-packages (from pandas>=0.16.0->py_stringsimjoin) (1.21.6)\n",
            "Requirement already satisfied: pytz>=2017.3 in /usr/local/lib/python3.8/dist-packages (from pandas>=0.16.0->py_stringsimjoin) (2022.6)\n"
          ]
        },
        {
          "output_type": "execute_result",
          "data": {
            "text/plain": [
              "DataTransformerRegistry.enable('default')"
            ]
          },
          "metadata": {},
          "execution_count": 312
        }
      ],
      "source": [
        "!pip install pandasql\n",
        "!pip3 install py_stringsimjoin\n",
        "\n",
        "import json\n",
        "import glob\n",
        "import pandas as pd\n",
        "import numpy as np\n",
        "import datetime as dt\n",
        "import re\n",
        "import os\n",
        "import matplotlib.pyplot as plt\n",
        "from lxml import etree\n",
        "import urllib\n",
        "import urllib.request\n",
        "import seaborn as sns\n",
        "import py_stringsimjoin as ssj\n",
        "import py_stringmatching as sm\n",
        "from matplotlib import cm\n",
        "from google.colab import drive\n",
        "from sklearn.model_selection import train_test_split\n",
        "from sklearn.linear_model import RidgeCV, Ridge, LassoCV, Lasso, LinearRegression\n",
        "from sklearn.ensemble import RandomForestRegressor\n",
        "from sklearn.metrics import r2_score, accuracy_score, mean_squared_error\n",
        "from sklearn.preprocessing import StandardScaler\n",
        "from sklearn.decomposition import PCA\n",
        "import plotly.express as px\n",
        "import pandasql as ps #SQL on Pandas Dataframe\n",
        "import altair as alt\n",
        "import pandasql as ps #SQL on Pandas Dataframe\n",
        "\n",
        "alt.data_transformers.disable_max_rows()\n",
        "\n",
        "# pd.set_option('display.max_columns', None)\n",
        "# pd.set_option('display.max_rows', None)"
      ]
    },
    {
      "cell_type": "code",
      "execution_count": 313,
      "metadata": {
        "colab": {
          "base_uri": "https://localhost:8080/"
        },
        "id": "ruNxRu4ePVKp",
        "outputId": "a8a2a9a4-f3be-4196-b99e-c035be5796d9"
      },
      "outputs": [
        {
          "output_type": "stream",
          "name": "stdout",
          "text": [
            "\u001b[33m\r0% [Working]\u001b[0m\r            \rIgn:1 https://developer.download.nvidia.com/compute/machine-learning/repos/ubuntu1804/x86_64  InRelease\n",
            "\u001b[33m\r0% [Waiting for headers] [Connecting to security.ubuntu.com (185.125.190.36)] [\u001b[0m\r                                                                               \rHit:2 https://developer.download.nvidia.com/compute/cuda/repos/ubuntu1804/x86_64  InRelease\n",
            "\u001b[33m\r0% [Waiting for headers] [Connecting to security.ubuntu.com (185.125.190.36)] [\u001b[0m\r                                                                               \rHit:3 https://cloud.r-project.org/bin/linux/ubuntu bionic-cran40/ InRelease\n",
            "\u001b[33m\r0% [Waiting for headers] [Connecting to security.ubuntu.com (185.125.190.36)] [\u001b[0m\u001b[33m\r0% [2 InRelease gpgv 1,581 B] [Waiting for headers] [Waiting for headers] [Wait\u001b[0m\r                                                                               \rHit:4 http://archive.ubuntu.com/ubuntu bionic InRelease\n",
            "Hit:5 https://developer.download.nvidia.com/compute/machine-learning/repos/ubuntu1804/x86_64  Release\n",
            "Hit:6 http://archive.ubuntu.com/ubuntu bionic-updates InRelease\n",
            "Hit:7 http://security.ubuntu.com/ubuntu bionic-security InRelease\n",
            "Hit:8 http://archive.ubuntu.com/ubuntu bionic-backports InRelease\n",
            "Hit:9 http://ppa.launchpad.net/c2d4u.team/c2d4u4.0+/ubuntu bionic InRelease\n",
            "Hit:10 http://ppa.launchpad.net/cran/libgit2/ubuntu bionic InRelease\n",
            "Hit:11 http://ppa.launchpad.net/deadsnakes/ppa/ubuntu bionic InRelease\n",
            "Hit:12 http://ppa.launchpad.net/graphics-drivers/ppa/ubuntu bionic InRelease\n",
            "Reading package lists... Done\n",
            "Building dependency tree       \n",
            "Reading state information... Done\n",
            "20 packages can be upgraded. Run 'apt list --upgradable' to see them.\n"
          ]
        }
      ],
      "source": [
        "!apt update"
      ]
    },
    {
      "cell_type": "code",
      "execution_count": 314,
      "metadata": {
        "colab": {
          "base_uri": "https://localhost:8080/"
        },
        "id": "ZVFigrluN7yH",
        "outputId": "f7434d50-41ee-4543-e874-abc4c0be7b3d"
      },
      "outputs": [
        {
          "output_type": "stream",
          "name": "stdout",
          "text": [
            "Drive already mounted at /content/drive; to attempt to forcibly remount, call drive.mount(\"/content/drive\", force_remount=True).\n"
          ]
        }
      ],
      "source": [
        "# Run this cell to mount your drive (you will be prompted to sign in)\n",
        "from google.colab import drive\n",
        "drive.mount('/content/drive')"
      ]
    },
    {
      "cell_type": "code",
      "execution_count": 315,
      "metadata": {
        "colab": {
          "base_uri": "https://localhost:8080/"
        },
        "id": "Fpc66EPlP2Vn",
        "outputId": "75ddf4f6-f3ad-4d0d-a879-15490dc54d6a"
      },
      "outputs": [
        {
          "output_type": "stream",
          "name": "stdout",
          "text": [
            "Looking in indexes: https://pypi.org/simple, https://us-python.pkg.dev/colab-wheels/public/simple/\n",
            "Requirement already satisfied: kaggle in /usr/local/lib/python3.8/dist-packages (1.5.12)\n",
            "Requirement already satisfied: urllib3 in /usr/local/lib/python3.8/dist-packages (from kaggle) (1.24.3)\n",
            "Requirement already satisfied: tqdm in /usr/local/lib/python3.8/dist-packages (from kaggle) (4.64.1)\n",
            "Requirement already satisfied: python-dateutil in /usr/local/lib/python3.8/dist-packages (from kaggle) (2.8.2)\n",
            "Requirement already satisfied: six>=1.10 in /usr/local/lib/python3.8/dist-packages (from kaggle) (1.15.0)\n",
            "Requirement already satisfied: requests in /usr/local/lib/python3.8/dist-packages (from kaggle) (2.23.0)\n",
            "Requirement already satisfied: certifi in /usr/local/lib/python3.8/dist-packages (from kaggle) (2022.12.7)\n",
            "Requirement already satisfied: python-slugify in /usr/local/lib/python3.8/dist-packages (from kaggle) (7.0.0)\n",
            "Requirement already satisfied: text-unidecode>=1.3 in /usr/local/lib/python3.8/dist-packages (from python-slugify->kaggle) (1.3)\n",
            "Requirement already satisfied: idna<3,>=2.5 in /usr/local/lib/python3.8/dist-packages (from requests->kaggle) (2.10)\n",
            "Requirement already satisfied: chardet<4,>=3.0.2 in /usr/local/lib/python3.8/dist-packages (from requests->kaggle) (3.0.4)\n"
          ]
        }
      ],
      "source": [
        "!pip install kaggle"
      ]
    },
    {
      "cell_type": "code",
      "execution_count": 316,
      "metadata": {
        "id": "6FL2TkiYP5mW",
        "colab": {
          "base_uri": "https://localhost:8080/"
        },
        "outputId": "48061e95-1142-40af-8660-d520d065353b"
      },
      "outputs": [
        {
          "output_type": "stream",
          "name": "stdout",
          "text": [
            "mkdir: cannot create directory ‘/root/.kaggle’: File exists\n"
          ]
        }
      ],
      "source": [
        "# Create the kaggle directory and read the uploaded kaggle.json file\n",
        "# (NOTE: Do NOT run this cell more than once unless restarting kernel)\n",
        "!mkdir ~/.kaggle"
      ]
    },
    {
      "cell_type": "code",
      "execution_count": 317,
      "metadata": {
        "id": "PECV6eySP_o9"
      },
      "outputs": [],
      "source": [
        "# Read the uploaded kaggle.json file\n",
        "!cp /content/drive/MyDrive/kaggle.json ~/.kaggle/"
      ]
    },
    {
      "cell_type": "code",
      "execution_count": 318,
      "metadata": {
        "colab": {
          "base_uri": "https://localhost:8080/"
        },
        "id": "fUNiGvRvP_tG",
        "outputId": "27caf6f7-d6ab-474c-a0e0-fb1f02d13597"
      },
      "outputs": [
        {
          "output_type": "stream",
          "name": "stdout",
          "text": [
            "world-food-facts.zip: Skipping, found more recently modified local copy (use --force to force download)\n"
          ]
        }
      ],
      "source": [
        "# Download dataset\n",
        "!kaggle datasets download -d openfoodfacts/world-food-facts"
      ]
    },
    {
      "cell_type": "code",
      "execution_count": 319,
      "metadata": {
        "colab": {
          "base_uri": "https://localhost:8080/"
        },
        "id": "Ef0l84AjP_xV",
        "outputId": "d53eac89-7522-4cf1-ab32-7d59e2f0cfb8"
      },
      "outputs": [
        {
          "output_type": "stream",
          "name": "stdout",
          "text": [
            "Archive:  /content/world-food-facts.zip\n",
            "replace en.openfoodfacts.org.products.tsv? [y]es, [n]o, [A]ll, [N]one, [r]ename: y\n",
            "  inflating: en.openfoodfacts.org.products.tsv  \n"
          ]
        }
      ],
      "source": [
        "# Unzip folder in Colab content folder\n",
        "!unzip /content/world-food-facts"
      ]
    },
    {
      "cell_type": "code",
      "execution_count": 320,
      "metadata": {
        "colab": {
          "base_uri": "https://localhost:8080/",
          "height": 676
        },
        "id": "a5JIbIKZP_0q",
        "outputId": "727bdf94-6617-4991-a5a5-2d8d13499753"
      },
      "outputs": [
        {
          "output_type": "execute_result",
          "data": {
            "text/plain": [
              "            code                                                                                         url                     creator   created_t      created_datetime last_modified_t last_modified_datetime                    product_name generic_name quantity packaging packaging_tags           brands      brands_tags categories categories_tags categories_en origins origins_tags manufacturing_places manufacturing_places_tags labels labels_tags labels_en emb_codes emb_codes_tags first_packaging_code_geo cities cities_tags purchase_places stores countries    countries_tags   countries_en                                                                                     ingredients_text allergens allergens_en traces traces_tags traces_en     serving_size  no_nutriments  additives_n                                                                                            additives additives_tags additives_en  ingredients_from_palm_oil_n  ingredients_from_palm_oil ingredients_from_palm_oil_tags  ingredients_that_may_be_from_palm_oil_n  ingredients_that_may_be_from_palm_oil ingredients_that_may_be_from_palm_oil_tags  nutrition_grade_uk nutrition_grade_fr pnns_groups_1 pnns_groups_2                                                                                               states                                                                                          states_tags                                                                                            states_en main_category main_category_en image_url image_small_url  energy_100g  energy-from-fat_100g  fat_100g  saturated-fat_100g  -butyric-acid_100g  -caproic-acid_100g  -caprylic-acid_100g  -capric-acid_100g  -lauric-acid_100g  -myristic-acid_100g  -palmitic-acid_100g  -stearic-acid_100g  -arachidic-acid_100g  -behenic-acid_100g  -lignoceric-acid_100g  -cerotic-acid_100g  -montanic-acid_100g  -melissic-acid_100g  monounsaturated-fat_100g  polyunsaturated-fat_100g  omega-3-fat_100g  -alpha-linolenic-acid_100g  -eicosapentaenoic-acid_100g  -docosahexaenoic-acid_100g  omega-6-fat_100g  -linoleic-acid_100g  -arachidonic-acid_100g  -gamma-linolenic-acid_100g  -dihomo-gamma-linolenic-acid_100g  omega-9-fat_100g  -oleic-acid_100g  -elaidic-acid_100g  -gondoic-acid_100g  -mead-acid_100g  -erucic-acid_100g  -nervonic-acid_100g  trans-fat_100g  cholesterol_100g  carbohydrates_100g  sugars_100g  -sucrose_100g  -glucose_100g  -fructose_100g  -lactose_100g  -maltose_100g  -maltodextrins_100g  starch_100g  polyols_100g  fiber_100g  proteins_100g  casein_100g  serum-proteins_100g  nucleotides_100g  salt_100g  sodium_100g  alcohol_100g  vitamin-a_100g  beta-carotene_100g  vitamin-d_100g  vitamin-e_100g  vitamin-k_100g  vitamin-c_100g  vitamin-b1_100g  vitamin-b2_100g  vitamin-pp_100g  vitamin-b6_100g  vitamin-b9_100g  folates_100g  vitamin-b12_100g  biotin_100g  pantothenic-acid_100g  silica_100g  bicarbonate_100g  potassium_100g  chloride_100g  calcium_100g  phosphorus_100g  iron_100g  magnesium_100g  zinc_100g  copper_100g  manganese_100g  fluoride_100g  selenium_100g  chromium_100g  molybdenum_100g  iodine_100g  caffeine_100g  taurine_100g  ph_100g  fruits-vegetables-nuts_100g  fruits-vegetables-nuts-estimate_100g  collagen-meat-protein-ratio_100g  cocoa_100g  chlorophyl_100g  carbon-footprint_100g  nutrition-score-fr_100g  nutrition-score-uk_100g  glycemic-index_100g  water-hardness_100g\n",
              "0  0000000003087  http://world-en.openfoodfacts.org/product/0000000003087/farine-de-ble-noir-ferme-t-y-r-nao  openfoodfacts-contributors  1474103866  2016-09-17T09:17:46Z      1474103893   2016-09-17T09:18:13Z              Farine de blé noir          NaN      1kg       NaN            NaN  Ferme t'y R'nao  ferme-t-y-r-nao        NaN             NaN           NaN     NaN          NaN                  NaN                       NaN    NaN         NaN       NaN       NaN            NaN                      NaN    NaN         NaN             NaN    NaN     en:FR         en:france         France                                                                                                  NaN       NaN          NaN    NaN         NaN       NaN              NaN            NaN          NaN                                                                                                  NaN            NaN          NaN                          NaN                        NaN                            NaN                                      NaN                                    NaN                                        NaN                 NaN                NaN           NaN           NaN  en:to-be-completed, en:nutrition-facts-to-be-completed, en:ingredients-to-be-completed, en:expir...  en:to-be-completed,en:nutrition-facts-to-be-completed,en:ingredients-to-be-completed,en:expirati...  To be completed,Nutrition facts to be completed,Ingredients to be completed,Expiration date to b...           NaN              NaN       NaN             NaN          NaN                   NaN       NaN                 NaN                 NaN                 NaN                  NaN                NaN                NaN                  NaN                  NaN                 NaN                   NaN                 NaN                    NaN                 NaN                  NaN                  NaN                       NaN                       NaN               NaN                         NaN                          NaN                         NaN               NaN                  NaN                     NaN                         NaN                                NaN               NaN               NaN                 NaN                 NaN              NaN                NaN                  NaN             NaN               NaN                 NaN          NaN            NaN            NaN             NaN            NaN            NaN                  NaN          NaN           NaN         NaN            NaN          NaN                  NaN               NaN        NaN          NaN           NaN             NaN                 NaN             NaN             NaN             NaN             NaN              NaN              NaN              NaN              NaN              NaN           NaN               NaN          NaN                    NaN          NaN               NaN             NaN            NaN           NaN              NaN        NaN             NaN        NaN          NaN             NaN            NaN            NaN            NaN              NaN          NaN            NaN           NaN      NaN                          NaN                                   NaN                               NaN         NaN              NaN                    NaN                      NaN                      NaN                  NaN                  NaN\n",
              "1  0000000004530        http://world-en.openfoodfacts.org/product/0000000004530/banana-chips-sweetened-whole             usda-ndb-import  1489069957  2017-03-09T14:32:37Z      1489069957   2017-03-09T14:32:37Z  Banana Chips Sweetened (Whole)          NaN      NaN       NaN            NaN              NaN              NaN        NaN             NaN           NaN     NaN          NaN                  NaN                       NaN    NaN         NaN       NaN       NaN            NaN                      NaN    NaN         NaN             NaN    NaN        US  en:united-states  United States         Bananas, vegetable oil (coconut oil, corn oil and/or palm oil) sugar, natural banana flavor.       NaN          NaN    NaN         NaN       NaN     28 g (1 ONZ)            NaN          0.0   [ bananas -> en:bananas  ]  [ vegetable-oil -> en:vegetable-oil  ]  [ oil -> en:oil  ]  [ cocon...            NaN          NaN                          0.0                        NaN                            NaN                                      0.0                                    NaN                                        NaN                 NaN                  d           NaN           NaN  en:to-be-completed, en:nutrition-facts-completed, en:ingredients-completed, en:expiration-date-t...  en:to-be-completed,en:nutrition-facts-completed,en:ingredients-completed,en:expiration-date-to-b...  To be completed,Nutrition facts completed,Ingredients completed,Expiration date to be completed,...           NaN              NaN       NaN             NaN       2243.0                   NaN     28.57               28.57                 NaN                 NaN                  NaN                NaN                NaN                  NaN                  NaN                 NaN                   NaN                 NaN                    NaN                 NaN                  NaN                  NaN                       NaN                       NaN               NaN                         NaN                          NaN                         NaN               NaN                  NaN                     NaN                         NaN                                NaN               NaN               NaN                 NaN                 NaN              NaN                NaN                  NaN             0.0             0.018               64.29        14.29            NaN            NaN             NaN            NaN            NaN                  NaN          NaN           NaN         3.6           3.57          NaN                  NaN               NaN      0.000         0.00           NaN             0.0                 NaN             NaN             NaN             NaN          0.0214              NaN              NaN              NaN              NaN              NaN           NaN               NaN          NaN                    NaN          NaN               NaN             NaN            NaN         0.000              NaN    0.00129             NaN        NaN          NaN             NaN            NaN            NaN            NaN              NaN          NaN            NaN           NaN      NaN                          NaN                                   NaN                               NaN         NaN              NaN                    NaN                     14.0                     14.0                  NaN                  NaN\n",
              "2  0000000004559                http://world-en.openfoodfacts.org/product/0000000004559/peanuts-torn-glasser             usda-ndb-import  1489069957  2017-03-09T14:32:37Z      1489069957   2017-03-09T14:32:37Z                         Peanuts          NaN      NaN       NaN            NaN   Torn & Glasser     torn-glasser        NaN             NaN           NaN     NaN          NaN                  NaN                       NaN    NaN         NaN       NaN       NaN            NaN                      NaN    NaN         NaN             NaN    NaN        US  en:united-states  United States  Peanuts, wheat flour, sugar, rice flour, tapioca starch, salt, leavening (ammonium bicarbonate, ...       NaN          NaN    NaN         NaN       NaN  28 g (0.25 cup)            NaN          0.0   [ peanuts -> en:peanuts  ]  [ wheat-flour -> en:wheat-flour  ]  [ flour -> en:flour  ]  [ sugar...            NaN          NaN                          0.0                        NaN                            NaN                                      0.0                                    NaN                                        NaN                 NaN                  b           NaN           NaN  en:to-be-completed, en:nutrition-facts-completed, en:ingredients-completed, en:expiration-date-t...  en:to-be-completed,en:nutrition-facts-completed,en:ingredients-completed,en:expiration-date-to-b...  To be completed,Nutrition facts completed,Ingredients completed,Expiration date to be completed,...           NaN              NaN       NaN             NaN       1941.0                   NaN     17.86                0.00                 NaN                 NaN                  NaN                NaN                NaN                  NaN                  NaN                 NaN                   NaN                 NaN                    NaN                 NaN                  NaN                  NaN                       NaN                       NaN               NaN                         NaN                          NaN                         NaN               NaN                  NaN                     NaN                         NaN                                NaN               NaN               NaN                 NaN                 NaN              NaN                NaN                  NaN             0.0             0.000               60.71        17.86            NaN            NaN             NaN            NaN            NaN                  NaN          NaN           NaN         7.1          17.86          NaN                  NaN               NaN      0.635         0.25           NaN             0.0                 NaN             NaN             NaN             NaN          0.0000              NaN              NaN              NaN              NaN              NaN           NaN               NaN          NaN                    NaN          NaN               NaN             NaN            NaN         0.071              NaN    0.00129             NaN        NaN          NaN             NaN            NaN            NaN            NaN              NaN          NaN            NaN           NaN      NaN                          NaN                                   NaN                               NaN         NaN              NaN                    NaN                      0.0                      0.0                  NaN                  NaN"
            ],
            "text/html": [
              "\n",
              "  <div id=\"df-9b6242dd-e03c-4ed4-80c0-82852f8bcc84\">\n",
              "    <div class=\"colab-df-container\">\n",
              "      <div>\n",
              "<style scoped>\n",
              "    .dataframe tbody tr th:only-of-type {\n",
              "        vertical-align: middle;\n",
              "    }\n",
              "\n",
              "    .dataframe tbody tr th {\n",
              "        vertical-align: top;\n",
              "    }\n",
              "\n",
              "    .dataframe thead th {\n",
              "        text-align: right;\n",
              "    }\n",
              "</style>\n",
              "<table border=\"1\" class=\"dataframe\">\n",
              "  <thead>\n",
              "    <tr style=\"text-align: right;\">\n",
              "      <th></th>\n",
              "      <th>code</th>\n",
              "      <th>url</th>\n",
              "      <th>creator</th>\n",
              "      <th>created_t</th>\n",
              "      <th>created_datetime</th>\n",
              "      <th>last_modified_t</th>\n",
              "      <th>last_modified_datetime</th>\n",
              "      <th>product_name</th>\n",
              "      <th>generic_name</th>\n",
              "      <th>quantity</th>\n",
              "      <th>packaging</th>\n",
              "      <th>packaging_tags</th>\n",
              "      <th>brands</th>\n",
              "      <th>brands_tags</th>\n",
              "      <th>categories</th>\n",
              "      <th>categories_tags</th>\n",
              "      <th>categories_en</th>\n",
              "      <th>origins</th>\n",
              "      <th>origins_tags</th>\n",
              "      <th>manufacturing_places</th>\n",
              "      <th>manufacturing_places_tags</th>\n",
              "      <th>labels</th>\n",
              "      <th>labels_tags</th>\n",
              "      <th>labels_en</th>\n",
              "      <th>emb_codes</th>\n",
              "      <th>emb_codes_tags</th>\n",
              "      <th>first_packaging_code_geo</th>\n",
              "      <th>cities</th>\n",
              "      <th>cities_tags</th>\n",
              "      <th>purchase_places</th>\n",
              "      <th>stores</th>\n",
              "      <th>countries</th>\n",
              "      <th>countries_tags</th>\n",
              "      <th>countries_en</th>\n",
              "      <th>ingredients_text</th>\n",
              "      <th>allergens</th>\n",
              "      <th>allergens_en</th>\n",
              "      <th>traces</th>\n",
              "      <th>traces_tags</th>\n",
              "      <th>traces_en</th>\n",
              "      <th>serving_size</th>\n",
              "      <th>no_nutriments</th>\n",
              "      <th>additives_n</th>\n",
              "      <th>additives</th>\n",
              "      <th>additives_tags</th>\n",
              "      <th>additives_en</th>\n",
              "      <th>ingredients_from_palm_oil_n</th>\n",
              "      <th>ingredients_from_palm_oil</th>\n",
              "      <th>ingredients_from_palm_oil_tags</th>\n",
              "      <th>ingredients_that_may_be_from_palm_oil_n</th>\n",
              "      <th>ingredients_that_may_be_from_palm_oil</th>\n",
              "      <th>ingredients_that_may_be_from_palm_oil_tags</th>\n",
              "      <th>nutrition_grade_uk</th>\n",
              "      <th>nutrition_grade_fr</th>\n",
              "      <th>pnns_groups_1</th>\n",
              "      <th>pnns_groups_2</th>\n",
              "      <th>states</th>\n",
              "      <th>states_tags</th>\n",
              "      <th>states_en</th>\n",
              "      <th>main_category</th>\n",
              "      <th>main_category_en</th>\n",
              "      <th>image_url</th>\n",
              "      <th>image_small_url</th>\n",
              "      <th>energy_100g</th>\n",
              "      <th>energy-from-fat_100g</th>\n",
              "      <th>fat_100g</th>\n",
              "      <th>saturated-fat_100g</th>\n",
              "      <th>-butyric-acid_100g</th>\n",
              "      <th>-caproic-acid_100g</th>\n",
              "      <th>-caprylic-acid_100g</th>\n",
              "      <th>-capric-acid_100g</th>\n",
              "      <th>-lauric-acid_100g</th>\n",
              "      <th>-myristic-acid_100g</th>\n",
              "      <th>-palmitic-acid_100g</th>\n",
              "      <th>-stearic-acid_100g</th>\n",
              "      <th>-arachidic-acid_100g</th>\n",
              "      <th>-behenic-acid_100g</th>\n",
              "      <th>-lignoceric-acid_100g</th>\n",
              "      <th>-cerotic-acid_100g</th>\n",
              "      <th>-montanic-acid_100g</th>\n",
              "      <th>-melissic-acid_100g</th>\n",
              "      <th>monounsaturated-fat_100g</th>\n",
              "      <th>polyunsaturated-fat_100g</th>\n",
              "      <th>omega-3-fat_100g</th>\n",
              "      <th>-alpha-linolenic-acid_100g</th>\n",
              "      <th>-eicosapentaenoic-acid_100g</th>\n",
              "      <th>-docosahexaenoic-acid_100g</th>\n",
              "      <th>omega-6-fat_100g</th>\n",
              "      <th>-linoleic-acid_100g</th>\n",
              "      <th>-arachidonic-acid_100g</th>\n",
              "      <th>-gamma-linolenic-acid_100g</th>\n",
              "      <th>-dihomo-gamma-linolenic-acid_100g</th>\n",
              "      <th>omega-9-fat_100g</th>\n",
              "      <th>-oleic-acid_100g</th>\n",
              "      <th>-elaidic-acid_100g</th>\n",
              "      <th>-gondoic-acid_100g</th>\n",
              "      <th>-mead-acid_100g</th>\n",
              "      <th>-erucic-acid_100g</th>\n",
              "      <th>-nervonic-acid_100g</th>\n",
              "      <th>trans-fat_100g</th>\n",
              "      <th>cholesterol_100g</th>\n",
              "      <th>carbohydrates_100g</th>\n",
              "      <th>sugars_100g</th>\n",
              "      <th>-sucrose_100g</th>\n",
              "      <th>-glucose_100g</th>\n",
              "      <th>-fructose_100g</th>\n",
              "      <th>-lactose_100g</th>\n",
              "      <th>-maltose_100g</th>\n",
              "      <th>-maltodextrins_100g</th>\n",
              "      <th>starch_100g</th>\n",
              "      <th>polyols_100g</th>\n",
              "      <th>fiber_100g</th>\n",
              "      <th>proteins_100g</th>\n",
              "      <th>casein_100g</th>\n",
              "      <th>serum-proteins_100g</th>\n",
              "      <th>nucleotides_100g</th>\n",
              "      <th>salt_100g</th>\n",
              "      <th>sodium_100g</th>\n",
              "      <th>alcohol_100g</th>\n",
              "      <th>vitamin-a_100g</th>\n",
              "      <th>beta-carotene_100g</th>\n",
              "      <th>vitamin-d_100g</th>\n",
              "      <th>vitamin-e_100g</th>\n",
              "      <th>vitamin-k_100g</th>\n",
              "      <th>vitamin-c_100g</th>\n",
              "      <th>vitamin-b1_100g</th>\n",
              "      <th>vitamin-b2_100g</th>\n",
              "      <th>vitamin-pp_100g</th>\n",
              "      <th>vitamin-b6_100g</th>\n",
              "      <th>vitamin-b9_100g</th>\n",
              "      <th>folates_100g</th>\n",
              "      <th>vitamin-b12_100g</th>\n",
              "      <th>biotin_100g</th>\n",
              "      <th>pantothenic-acid_100g</th>\n",
              "      <th>silica_100g</th>\n",
              "      <th>bicarbonate_100g</th>\n",
              "      <th>potassium_100g</th>\n",
              "      <th>chloride_100g</th>\n",
              "      <th>calcium_100g</th>\n",
              "      <th>phosphorus_100g</th>\n",
              "      <th>iron_100g</th>\n",
              "      <th>magnesium_100g</th>\n",
              "      <th>zinc_100g</th>\n",
              "      <th>copper_100g</th>\n",
              "      <th>manganese_100g</th>\n",
              "      <th>fluoride_100g</th>\n",
              "      <th>selenium_100g</th>\n",
              "      <th>chromium_100g</th>\n",
              "      <th>molybdenum_100g</th>\n",
              "      <th>iodine_100g</th>\n",
              "      <th>caffeine_100g</th>\n",
              "      <th>taurine_100g</th>\n",
              "      <th>ph_100g</th>\n",
              "      <th>fruits-vegetables-nuts_100g</th>\n",
              "      <th>fruits-vegetables-nuts-estimate_100g</th>\n",
              "      <th>collagen-meat-protein-ratio_100g</th>\n",
              "      <th>cocoa_100g</th>\n",
              "      <th>chlorophyl_100g</th>\n",
              "      <th>carbon-footprint_100g</th>\n",
              "      <th>nutrition-score-fr_100g</th>\n",
              "      <th>nutrition-score-uk_100g</th>\n",
              "      <th>glycemic-index_100g</th>\n",
              "      <th>water-hardness_100g</th>\n",
              "    </tr>\n",
              "  </thead>\n",
              "  <tbody>\n",
              "    <tr>\n",
              "      <th>0</th>\n",
              "      <td>0000000003087</td>\n",
              "      <td>http://world-en.openfoodfacts.org/product/0000000003087/farine-de-ble-noir-ferme-t-y-r-nao</td>\n",
              "      <td>openfoodfacts-contributors</td>\n",
              "      <td>1474103866</td>\n",
              "      <td>2016-09-17T09:17:46Z</td>\n",
              "      <td>1474103893</td>\n",
              "      <td>2016-09-17T09:18:13Z</td>\n",
              "      <td>Farine de blé noir</td>\n",
              "      <td>NaN</td>\n",
              "      <td>1kg</td>\n",
              "      <td>NaN</td>\n",
              "      <td>NaN</td>\n",
              "      <td>Ferme t'y R'nao</td>\n",
              "      <td>ferme-t-y-r-nao</td>\n",
              "      <td>NaN</td>\n",
              "      <td>NaN</td>\n",
              "      <td>NaN</td>\n",
              "      <td>NaN</td>\n",
              "      <td>NaN</td>\n",
              "      <td>NaN</td>\n",
              "      <td>NaN</td>\n",
              "      <td>NaN</td>\n",
              "      <td>NaN</td>\n",
              "      <td>NaN</td>\n",
              "      <td>NaN</td>\n",
              "      <td>NaN</td>\n",
              "      <td>NaN</td>\n",
              "      <td>NaN</td>\n",
              "      <td>NaN</td>\n",
              "      <td>NaN</td>\n",
              "      <td>NaN</td>\n",
              "      <td>en:FR</td>\n",
              "      <td>en:france</td>\n",
              "      <td>France</td>\n",
              "      <td>NaN</td>\n",
              "      <td>NaN</td>\n",
              "      <td>NaN</td>\n",
              "      <td>NaN</td>\n",
              "      <td>NaN</td>\n",
              "      <td>NaN</td>\n",
              "      <td>NaN</td>\n",
              "      <td>NaN</td>\n",
              "      <td>NaN</td>\n",
              "      <td>NaN</td>\n",
              "      <td>NaN</td>\n",
              "      <td>NaN</td>\n",
              "      <td>NaN</td>\n",
              "      <td>NaN</td>\n",
              "      <td>NaN</td>\n",
              "      <td>NaN</td>\n",
              "      <td>NaN</td>\n",
              "      <td>NaN</td>\n",
              "      <td>NaN</td>\n",
              "      <td>NaN</td>\n",
              "      <td>NaN</td>\n",
              "      <td>NaN</td>\n",
              "      <td>en:to-be-completed, en:nutrition-facts-to-be-completed, en:ingredients-to-be-completed, en:expir...</td>\n",
              "      <td>en:to-be-completed,en:nutrition-facts-to-be-completed,en:ingredients-to-be-completed,en:expirati...</td>\n",
              "      <td>To be completed,Nutrition facts to be completed,Ingredients to be completed,Expiration date to b...</td>\n",
              "      <td>NaN</td>\n",
              "      <td>NaN</td>\n",
              "      <td>NaN</td>\n",
              "      <td>NaN</td>\n",
              "      <td>NaN</td>\n",
              "      <td>NaN</td>\n",
              "      <td>NaN</td>\n",
              "      <td>NaN</td>\n",
              "      <td>NaN</td>\n",
              "      <td>NaN</td>\n",
              "      <td>NaN</td>\n",
              "      <td>NaN</td>\n",
              "      <td>NaN</td>\n",
              "      <td>NaN</td>\n",
              "      <td>NaN</td>\n",
              "      <td>NaN</td>\n",
              "      <td>NaN</td>\n",
              "      <td>NaN</td>\n",
              "      <td>NaN</td>\n",
              "      <td>NaN</td>\n",
              "      <td>NaN</td>\n",
              "      <td>NaN</td>\n",
              "      <td>NaN</td>\n",
              "      <td>NaN</td>\n",
              "      <td>NaN</td>\n",
              "      <td>NaN</td>\n",
              "      <td>NaN</td>\n",
              "      <td>NaN</td>\n",
              "      <td>NaN</td>\n",
              "      <td>NaN</td>\n",
              "      <td>NaN</td>\n",
              "      <td>NaN</td>\n",
              "      <td>NaN</td>\n",
              "      <td>NaN</td>\n",
              "      <td>NaN</td>\n",
              "      <td>NaN</td>\n",
              "      <td>NaN</td>\n",
              "      <td>NaN</td>\n",
              "      <td>NaN</td>\n",
              "      <td>NaN</td>\n",
              "      <td>NaN</td>\n",
              "      <td>NaN</td>\n",
              "      <td>NaN</td>\n",
              "      <td>NaN</td>\n",
              "      <td>NaN</td>\n",
              "      <td>NaN</td>\n",
              "      <td>NaN</td>\n",
              "      <td>NaN</td>\n",
              "      <td>NaN</td>\n",
              "      <td>NaN</td>\n",
              "      <td>NaN</td>\n",
              "      <td>NaN</td>\n",
              "      <td>NaN</td>\n",
              "      <td>NaN</td>\n",
              "      <td>NaN</td>\n",
              "      <td>NaN</td>\n",
              "      <td>NaN</td>\n",
              "      <td>NaN</td>\n",
              "      <td>NaN</td>\n",
              "      <td>NaN</td>\n",
              "      <td>NaN</td>\n",
              "      <td>NaN</td>\n",
              "      <td>NaN</td>\n",
              "      <td>NaN</td>\n",
              "      <td>NaN</td>\n",
              "      <td>NaN</td>\n",
              "      <td>NaN</td>\n",
              "      <td>NaN</td>\n",
              "      <td>NaN</td>\n",
              "      <td>NaN</td>\n",
              "      <td>NaN</td>\n",
              "      <td>NaN</td>\n",
              "      <td>NaN</td>\n",
              "      <td>NaN</td>\n",
              "      <td>NaN</td>\n",
              "      <td>NaN</td>\n",
              "      <td>NaN</td>\n",
              "      <td>NaN</td>\n",
              "      <td>NaN</td>\n",
              "      <td>NaN</td>\n",
              "      <td>NaN</td>\n",
              "      <td>NaN</td>\n",
              "      <td>NaN</td>\n",
              "      <td>NaN</td>\n",
              "      <td>NaN</td>\n",
              "      <td>NaN</td>\n",
              "      <td>NaN</td>\n",
              "      <td>NaN</td>\n",
              "      <td>NaN</td>\n",
              "      <td>NaN</td>\n",
              "      <td>NaN</td>\n",
              "      <td>NaN</td>\n",
              "      <td>NaN</td>\n",
              "      <td>NaN</td>\n",
              "      <td>NaN</td>\n",
              "      <td>NaN</td>\n",
              "      <td>NaN</td>\n",
              "      <td>NaN</td>\n",
              "      <td>NaN</td>\n",
              "      <td>NaN</td>\n",
              "      <td>NaN</td>\n",
              "      <td>NaN</td>\n",
              "      <td>NaN</td>\n",
              "      <td>NaN</td>\n",
              "    </tr>\n",
              "    <tr>\n",
              "      <th>1</th>\n",
              "      <td>0000000004530</td>\n",
              "      <td>http://world-en.openfoodfacts.org/product/0000000004530/banana-chips-sweetened-whole</td>\n",
              "      <td>usda-ndb-import</td>\n",
              "      <td>1489069957</td>\n",
              "      <td>2017-03-09T14:32:37Z</td>\n",
              "      <td>1489069957</td>\n",
              "      <td>2017-03-09T14:32:37Z</td>\n",
              "      <td>Banana Chips Sweetened (Whole)</td>\n",
              "      <td>NaN</td>\n",
              "      <td>NaN</td>\n",
              "      <td>NaN</td>\n",
              "      <td>NaN</td>\n",
              "      <td>NaN</td>\n",
              "      <td>NaN</td>\n",
              "      <td>NaN</td>\n",
              "      <td>NaN</td>\n",
              "      <td>NaN</td>\n",
              "      <td>NaN</td>\n",
              "      <td>NaN</td>\n",
              "      <td>NaN</td>\n",
              "      <td>NaN</td>\n",
              "      <td>NaN</td>\n",
              "      <td>NaN</td>\n",
              "      <td>NaN</td>\n",
              "      <td>NaN</td>\n",
              "      <td>NaN</td>\n",
              "      <td>NaN</td>\n",
              "      <td>NaN</td>\n",
              "      <td>NaN</td>\n",
              "      <td>NaN</td>\n",
              "      <td>NaN</td>\n",
              "      <td>US</td>\n",
              "      <td>en:united-states</td>\n",
              "      <td>United States</td>\n",
              "      <td>Bananas, vegetable oil (coconut oil, corn oil and/or palm oil) sugar, natural banana flavor.</td>\n",
              "      <td>NaN</td>\n",
              "      <td>NaN</td>\n",
              "      <td>NaN</td>\n",
              "      <td>NaN</td>\n",
              "      <td>NaN</td>\n",
              "      <td>28 g (1 ONZ)</td>\n",
              "      <td>NaN</td>\n",
              "      <td>0.0</td>\n",
              "      <td>[ bananas -&gt; en:bananas  ]  [ vegetable-oil -&gt; en:vegetable-oil  ]  [ oil -&gt; en:oil  ]  [ cocon...</td>\n",
              "      <td>NaN</td>\n",
              "      <td>NaN</td>\n",
              "      <td>0.0</td>\n",
              "      <td>NaN</td>\n",
              "      <td>NaN</td>\n",
              "      <td>0.0</td>\n",
              "      <td>NaN</td>\n",
              "      <td>NaN</td>\n",
              "      <td>NaN</td>\n",
              "      <td>d</td>\n",
              "      <td>NaN</td>\n",
              "      <td>NaN</td>\n",
              "      <td>en:to-be-completed, en:nutrition-facts-completed, en:ingredients-completed, en:expiration-date-t...</td>\n",
              "      <td>en:to-be-completed,en:nutrition-facts-completed,en:ingredients-completed,en:expiration-date-to-b...</td>\n",
              "      <td>To be completed,Nutrition facts completed,Ingredients completed,Expiration date to be completed,...</td>\n",
              "      <td>NaN</td>\n",
              "      <td>NaN</td>\n",
              "      <td>NaN</td>\n",
              "      <td>NaN</td>\n",
              "      <td>2243.0</td>\n",
              "      <td>NaN</td>\n",
              "      <td>28.57</td>\n",
              "      <td>28.57</td>\n",
              "      <td>NaN</td>\n",
              "      <td>NaN</td>\n",
              "      <td>NaN</td>\n",
              "      <td>NaN</td>\n",
              "      <td>NaN</td>\n",
              "      <td>NaN</td>\n",
              "      <td>NaN</td>\n",
              "      <td>NaN</td>\n",
              "      <td>NaN</td>\n",
              "      <td>NaN</td>\n",
              "      <td>NaN</td>\n",
              "      <td>NaN</td>\n",
              "      <td>NaN</td>\n",
              "      <td>NaN</td>\n",
              "      <td>NaN</td>\n",
              "      <td>NaN</td>\n",
              "      <td>NaN</td>\n",
              "      <td>NaN</td>\n",
              "      <td>NaN</td>\n",
              "      <td>NaN</td>\n",
              "      <td>NaN</td>\n",
              "      <td>NaN</td>\n",
              "      <td>NaN</td>\n",
              "      <td>NaN</td>\n",
              "      <td>NaN</td>\n",
              "      <td>NaN</td>\n",
              "      <td>NaN</td>\n",
              "      <td>NaN</td>\n",
              "      <td>NaN</td>\n",
              "      <td>NaN</td>\n",
              "      <td>NaN</td>\n",
              "      <td>NaN</td>\n",
              "      <td>0.0</td>\n",
              "      <td>0.018</td>\n",
              "      <td>64.29</td>\n",
              "      <td>14.29</td>\n",
              "      <td>NaN</td>\n",
              "      <td>NaN</td>\n",
              "      <td>NaN</td>\n",
              "      <td>NaN</td>\n",
              "      <td>NaN</td>\n",
              "      <td>NaN</td>\n",
              "      <td>NaN</td>\n",
              "      <td>NaN</td>\n",
              "      <td>3.6</td>\n",
              "      <td>3.57</td>\n",
              "      <td>NaN</td>\n",
              "      <td>NaN</td>\n",
              "      <td>NaN</td>\n",
              "      <td>0.000</td>\n",
              "      <td>0.00</td>\n",
              "      <td>NaN</td>\n",
              "      <td>0.0</td>\n",
              "      <td>NaN</td>\n",
              "      <td>NaN</td>\n",
              "      <td>NaN</td>\n",
              "      <td>NaN</td>\n",
              "      <td>0.0214</td>\n",
              "      <td>NaN</td>\n",
              "      <td>NaN</td>\n",
              "      <td>NaN</td>\n",
              "      <td>NaN</td>\n",
              "      <td>NaN</td>\n",
              "      <td>NaN</td>\n",
              "      <td>NaN</td>\n",
              "      <td>NaN</td>\n",
              "      <td>NaN</td>\n",
              "      <td>NaN</td>\n",
              "      <td>NaN</td>\n",
              "      <td>NaN</td>\n",
              "      <td>NaN</td>\n",
              "      <td>0.000</td>\n",
              "      <td>NaN</td>\n",
              "      <td>0.00129</td>\n",
              "      <td>NaN</td>\n",
              "      <td>NaN</td>\n",
              "      <td>NaN</td>\n",
              "      <td>NaN</td>\n",
              "      <td>NaN</td>\n",
              "      <td>NaN</td>\n",
              "      <td>NaN</td>\n",
              "      <td>NaN</td>\n",
              "      <td>NaN</td>\n",
              "      <td>NaN</td>\n",
              "      <td>NaN</td>\n",
              "      <td>NaN</td>\n",
              "      <td>NaN</td>\n",
              "      <td>NaN</td>\n",
              "      <td>NaN</td>\n",
              "      <td>NaN</td>\n",
              "      <td>NaN</td>\n",
              "      <td>NaN</td>\n",
              "      <td>14.0</td>\n",
              "      <td>14.0</td>\n",
              "      <td>NaN</td>\n",
              "      <td>NaN</td>\n",
              "    </tr>\n",
              "    <tr>\n",
              "      <th>2</th>\n",
              "      <td>0000000004559</td>\n",
              "      <td>http://world-en.openfoodfacts.org/product/0000000004559/peanuts-torn-glasser</td>\n",
              "      <td>usda-ndb-import</td>\n",
              "      <td>1489069957</td>\n",
              "      <td>2017-03-09T14:32:37Z</td>\n",
              "      <td>1489069957</td>\n",
              "      <td>2017-03-09T14:32:37Z</td>\n",
              "      <td>Peanuts</td>\n",
              "      <td>NaN</td>\n",
              "      <td>NaN</td>\n",
              "      <td>NaN</td>\n",
              "      <td>NaN</td>\n",
              "      <td>Torn &amp; Glasser</td>\n",
              "      <td>torn-glasser</td>\n",
              "      <td>NaN</td>\n",
              "      <td>NaN</td>\n",
              "      <td>NaN</td>\n",
              "      <td>NaN</td>\n",
              "      <td>NaN</td>\n",
              "      <td>NaN</td>\n",
              "      <td>NaN</td>\n",
              "      <td>NaN</td>\n",
              "      <td>NaN</td>\n",
              "      <td>NaN</td>\n",
              "      <td>NaN</td>\n",
              "      <td>NaN</td>\n",
              "      <td>NaN</td>\n",
              "      <td>NaN</td>\n",
              "      <td>NaN</td>\n",
              "      <td>NaN</td>\n",
              "      <td>NaN</td>\n",
              "      <td>US</td>\n",
              "      <td>en:united-states</td>\n",
              "      <td>United States</td>\n",
              "      <td>Peanuts, wheat flour, sugar, rice flour, tapioca starch, salt, leavening (ammonium bicarbonate, ...</td>\n",
              "      <td>NaN</td>\n",
              "      <td>NaN</td>\n",
              "      <td>NaN</td>\n",
              "      <td>NaN</td>\n",
              "      <td>NaN</td>\n",
              "      <td>28 g (0.25 cup)</td>\n",
              "      <td>NaN</td>\n",
              "      <td>0.0</td>\n",
              "      <td>[ peanuts -&gt; en:peanuts  ]  [ wheat-flour -&gt; en:wheat-flour  ]  [ flour -&gt; en:flour  ]  [ sugar...</td>\n",
              "      <td>NaN</td>\n",
              "      <td>NaN</td>\n",
              "      <td>0.0</td>\n",
              "      <td>NaN</td>\n",
              "      <td>NaN</td>\n",
              "      <td>0.0</td>\n",
              "      <td>NaN</td>\n",
              "      <td>NaN</td>\n",
              "      <td>NaN</td>\n",
              "      <td>b</td>\n",
              "      <td>NaN</td>\n",
              "      <td>NaN</td>\n",
              "      <td>en:to-be-completed, en:nutrition-facts-completed, en:ingredients-completed, en:expiration-date-t...</td>\n",
              "      <td>en:to-be-completed,en:nutrition-facts-completed,en:ingredients-completed,en:expiration-date-to-b...</td>\n",
              "      <td>To be completed,Nutrition facts completed,Ingredients completed,Expiration date to be completed,...</td>\n",
              "      <td>NaN</td>\n",
              "      <td>NaN</td>\n",
              "      <td>NaN</td>\n",
              "      <td>NaN</td>\n",
              "      <td>1941.0</td>\n",
              "      <td>NaN</td>\n",
              "      <td>17.86</td>\n",
              "      <td>0.00</td>\n",
              "      <td>NaN</td>\n",
              "      <td>NaN</td>\n",
              "      <td>NaN</td>\n",
              "      <td>NaN</td>\n",
              "      <td>NaN</td>\n",
              "      <td>NaN</td>\n",
              "      <td>NaN</td>\n",
              "      <td>NaN</td>\n",
              "      <td>NaN</td>\n",
              "      <td>NaN</td>\n",
              "      <td>NaN</td>\n",
              "      <td>NaN</td>\n",
              "      <td>NaN</td>\n",
              "      <td>NaN</td>\n",
              "      <td>NaN</td>\n",
              "      <td>NaN</td>\n",
              "      <td>NaN</td>\n",
              "      <td>NaN</td>\n",
              "      <td>NaN</td>\n",
              "      <td>NaN</td>\n",
              "      <td>NaN</td>\n",
              "      <td>NaN</td>\n",
              "      <td>NaN</td>\n",
              "      <td>NaN</td>\n",
              "      <td>NaN</td>\n",
              "      <td>NaN</td>\n",
              "      <td>NaN</td>\n",
              "      <td>NaN</td>\n",
              "      <td>NaN</td>\n",
              "      <td>NaN</td>\n",
              "      <td>NaN</td>\n",
              "      <td>NaN</td>\n",
              "      <td>0.0</td>\n",
              "      <td>0.000</td>\n",
              "      <td>60.71</td>\n",
              "      <td>17.86</td>\n",
              "      <td>NaN</td>\n",
              "      <td>NaN</td>\n",
              "      <td>NaN</td>\n",
              "      <td>NaN</td>\n",
              "      <td>NaN</td>\n",
              "      <td>NaN</td>\n",
              "      <td>NaN</td>\n",
              "      <td>NaN</td>\n",
              "      <td>7.1</td>\n",
              "      <td>17.86</td>\n",
              "      <td>NaN</td>\n",
              "      <td>NaN</td>\n",
              "      <td>NaN</td>\n",
              "      <td>0.635</td>\n",
              "      <td>0.25</td>\n",
              "      <td>NaN</td>\n",
              "      <td>0.0</td>\n",
              "      <td>NaN</td>\n",
              "      <td>NaN</td>\n",
              "      <td>NaN</td>\n",
              "      <td>NaN</td>\n",
              "      <td>0.0000</td>\n",
              "      <td>NaN</td>\n",
              "      <td>NaN</td>\n",
              "      <td>NaN</td>\n",
              "      <td>NaN</td>\n",
              "      <td>NaN</td>\n",
              "      <td>NaN</td>\n",
              "      <td>NaN</td>\n",
              "      <td>NaN</td>\n",
              "      <td>NaN</td>\n",
              "      <td>NaN</td>\n",
              "      <td>NaN</td>\n",
              "      <td>NaN</td>\n",
              "      <td>NaN</td>\n",
              "      <td>0.071</td>\n",
              "      <td>NaN</td>\n",
              "      <td>0.00129</td>\n",
              "      <td>NaN</td>\n",
              "      <td>NaN</td>\n",
              "      <td>NaN</td>\n",
              "      <td>NaN</td>\n",
              "      <td>NaN</td>\n",
              "      <td>NaN</td>\n",
              "      <td>NaN</td>\n",
              "      <td>NaN</td>\n",
              "      <td>NaN</td>\n",
              "      <td>NaN</td>\n",
              "      <td>NaN</td>\n",
              "      <td>NaN</td>\n",
              "      <td>NaN</td>\n",
              "      <td>NaN</td>\n",
              "      <td>NaN</td>\n",
              "      <td>NaN</td>\n",
              "      <td>NaN</td>\n",
              "      <td>NaN</td>\n",
              "      <td>0.0</td>\n",
              "      <td>0.0</td>\n",
              "      <td>NaN</td>\n",
              "      <td>NaN</td>\n",
              "    </tr>\n",
              "  </tbody>\n",
              "</table>\n",
              "</div>\n",
              "      <button class=\"colab-df-convert\" onclick=\"convertToInteractive('df-9b6242dd-e03c-4ed4-80c0-82852f8bcc84')\"\n",
              "              title=\"Convert this dataframe to an interactive table.\"\n",
              "              style=\"display:none;\">\n",
              "        \n",
              "  <svg xmlns=\"http://www.w3.org/2000/svg\" height=\"24px\"viewBox=\"0 0 24 24\"\n",
              "       width=\"24px\">\n",
              "    <path d=\"M0 0h24v24H0V0z\" fill=\"none\"/>\n",
              "    <path d=\"M18.56 5.44l.94 2.06.94-2.06 2.06-.94-2.06-.94-.94-2.06-.94 2.06-2.06.94zm-11 1L8.5 8.5l.94-2.06 2.06-.94-2.06-.94L8.5 2.5l-.94 2.06-2.06.94zm10 10l.94 2.06.94-2.06 2.06-.94-2.06-.94-.94-2.06-.94 2.06-2.06.94z\"/><path d=\"M17.41 7.96l-1.37-1.37c-.4-.4-.92-.59-1.43-.59-.52 0-1.04.2-1.43.59L10.3 9.45l-7.72 7.72c-.78.78-.78 2.05 0 2.83L4 21.41c.39.39.9.59 1.41.59.51 0 1.02-.2 1.41-.59l7.78-7.78 2.81-2.81c.8-.78.8-2.07 0-2.86zM5.41 20L4 18.59l7.72-7.72 1.47 1.35L5.41 20z\"/>\n",
              "  </svg>\n",
              "      </button>\n",
              "      \n",
              "  <style>\n",
              "    .colab-df-container {\n",
              "      display:flex;\n",
              "      flex-wrap:wrap;\n",
              "      gap: 12px;\n",
              "    }\n",
              "\n",
              "    .colab-df-convert {\n",
              "      background-color: #E8F0FE;\n",
              "      border: none;\n",
              "      border-radius: 50%;\n",
              "      cursor: pointer;\n",
              "      display: none;\n",
              "      fill: #1967D2;\n",
              "      height: 32px;\n",
              "      padding: 0 0 0 0;\n",
              "      width: 32px;\n",
              "    }\n",
              "\n",
              "    .colab-df-convert:hover {\n",
              "      background-color: #E2EBFA;\n",
              "      box-shadow: 0px 1px 2px rgba(60, 64, 67, 0.3), 0px 1px 3px 1px rgba(60, 64, 67, 0.15);\n",
              "      fill: #174EA6;\n",
              "    }\n",
              "\n",
              "    [theme=dark] .colab-df-convert {\n",
              "      background-color: #3B4455;\n",
              "      fill: #D2E3FC;\n",
              "    }\n",
              "\n",
              "    [theme=dark] .colab-df-convert:hover {\n",
              "      background-color: #434B5C;\n",
              "      box-shadow: 0px 1px 3px 1px rgba(0, 0, 0, 0.15);\n",
              "      filter: drop-shadow(0px 1px 2px rgba(0, 0, 0, 0.3));\n",
              "      fill: #FFFFFF;\n",
              "    }\n",
              "  </style>\n",
              "\n",
              "      <script>\n",
              "        const buttonEl =\n",
              "          document.querySelector('#df-9b6242dd-e03c-4ed4-80c0-82852f8bcc84 button.colab-df-convert');\n",
              "        buttonEl.style.display =\n",
              "          google.colab.kernel.accessAllowed ? 'block' : 'none';\n",
              "\n",
              "        async function convertToInteractive(key) {\n",
              "          const element = document.querySelector('#df-9b6242dd-e03c-4ed4-80c0-82852f8bcc84');\n",
              "          const dataTable =\n",
              "            await google.colab.kernel.invokeFunction('convertToInteractive',\n",
              "                                                     [key], {});\n",
              "          if (!dataTable) return;\n",
              "\n",
              "          const docLinkHtml = 'Like what you see? Visit the ' +\n",
              "            '<a target=\"_blank\" href=https://colab.research.google.com/notebooks/data_table.ipynb>data table notebook</a>'\n",
              "            + ' to learn more about interactive tables.';\n",
              "          element.innerHTML = '';\n",
              "          dataTable['output_type'] = 'display_data';\n",
              "          await google.colab.output.renderOutput(dataTable, element);\n",
              "          const docLink = document.createElement('div');\n",
              "          docLink.innerHTML = docLinkHtml;\n",
              "          element.appendChild(docLink);\n",
              "        }\n",
              "      </script>\n",
              "    </div>\n",
              "  </div>\n",
              "  "
            ]
          },
          "metadata": {},
          "execution_count": 320
        }
      ],
      "source": [
        "# Read the csv file and save it to a dataframe called `df_airbnb`\n",
        "ff_df = pd.read_csv(\"en.openfoodfacts.org.products.tsv\", sep='\\t', low_memory=False)\n",
        "ff_df.head(3)"
      ]
    },
    {
      "cell_type": "code",
      "source": [
        "# CHECKING DIFFERENCE BETWEEN UK AND FRANCE NUTRITION SCORES\n",
        "is_same = ff_df.dropna(subset=['nutrition-score-uk_100g', 'nutrition-score-fr_100g'])\n",
        "is_same = is_same['nutrition-score-uk_100g'] == is_same['nutrition-score-fr_100g']\n",
        "# print(len(is_same))\n",
        "\n",
        "count=0\n",
        "for entry in is_same:\n",
        "  if entry == True:\n",
        "    count += 1\n",
        "# print(count)\n",
        "print(\"UK and France versions of nutrition scores are the same: \" + str(100 * count / len(is_same)) + \"% of the time\")"
      ],
      "metadata": {
        "colab": {
          "base_uri": "https://localhost:8080/"
        },
        "id": "XhtMlAOOjnX7",
        "outputId": "8ae543e5-3f8f-41f9-bb26-b680696af1f0"
      },
      "execution_count": 321,
      "outputs": [
        {
          "output_type": "stream",
          "name": "stdout",
          "text": [
            "UK and France versions of nutrition scores are the same: 94.87436042314091% of the time\n"
          ]
        }
      ]
    },
    {
      "cell_type": "markdown",
      "metadata": {
        "id": "RiTmD8gAM3Sl"
      },
      "source": [
        "# Cleaning the Data"
      ]
    },
    {
      "cell_type": "code",
      "execution_count": 322,
      "metadata": {
        "colab": {
          "base_uri": "https://localhost:8080/"
        },
        "id": "-uf4IYScP_3j",
        "outputId": "ee7d6eb0-d2d7-4cb3-b552-813c0826d7f3"
      },
      "outputs": [
        {
          "output_type": "stream",
          "name": "stdout",
          "text": [
            "<class 'pandas.core.frame.DataFrame'>\n",
            "RangeIndex: 356027 entries, 0 to 356026\n",
            "Columns: 163 entries, code to water-hardness_100g\n",
            "dtypes: float64(107), object(56)\n",
            "memory usage: 442.8+ MB\n"
          ]
        }
      ],
      "source": [
        "# Check the basic information of the dataframe\n",
        "ff_df.info()"
      ]
    },
    {
      "cell_type": "markdown",
      "metadata": {
        "id": "Ju1nrjaOLUoh"
      },
      "source": [
        "## Dropping Columns with a Significant Amount of Nulls\n",
        "Most of the 163 columns in this dataset have a significant amount of nulls. Here I drop columns with more than 30% nulls."
      ]
    },
    {
      "cell_type": "code",
      "execution_count": 323,
      "metadata": {
        "id": "7BLulWx3P_6I"
      },
      "outputs": [],
      "source": [
        "# Drop columns with more than 30% nulls\n",
        "perc = 30.0 # max percent of null values we are allowing\n",
        "min_count =  int(((100-perc)/100)*ff_df.shape[0] + 1)\n",
        "ff_df = ff_df.dropna( axis=1, thresh=min_count)"
      ]
    },
    {
      "cell_type": "markdown",
      "metadata": {
        "id": "OppQJsxh__nz"
      },
      "source": [
        "## Dropping Unnecessary Columns"
      ]
    },
    {
      "cell_type": "markdown",
      "metadata": {
        "id": "Va3Dh1J_I1Do"
      },
      "source": [
        "Next, I drop many columns because they will not add information to our analysis or are a close duplicate of another column. I provide reasoning for dropped columns below where it is not obvious:\n",
        "*   'creator' is the organization that created the entry\n",
        "*   'created_t', 'created_datetime', 'last_modified_t', and 'last_modified_datetime' all have to do with when the row entry was created.\n",
        "*   The 'brands' column is the same as the 'brands_tags' column just with different formatting. Removed 'brands_tags'.\n",
        "*   'countries' and 'countries_tags' is the same as 'countries_en' with different formatting.\n",
        "*   'additives' is similar to 'ingredients_text' with different formatting. Note there is a number of additives column that we didn't drop.\n",
        "*   'ingredients_from_palm_oil_n' and 'ingredients_that_may_be_from_palm_oil_n' is almost always 0 and, upon inspection, is usually not accurate according to the ingredients column (many times the ingredients has palm oil but is not reflected in the 'ingredients_from_palm_oil_n' or the 'ingredients_that_may_be_from_palm_oil_n' columns.\n",
        "*   The 'states' columns have to do with what information still needs to be added to a respective entry."
      ]
    },
    {
      "cell_type": "code",
      "execution_count": 324,
      "metadata": {
        "id": "EXA4csI07ofA"
      },
      "outputs": [],
      "source": [
        "# Drop unnecssary columns\n",
        "ff_df = ff_df.reset_index().drop(columns=['code', 'url', 'creator', 'created_t', 'created_datetime', 'last_modified_t', \n",
        "                            'last_modified_datetime', 'brands_tags', 'countries', 'countries_tags', 'additives', \n",
        "                            'ingredients_from_palm_oil_n', 'ingredients_that_may_be_from_palm_oil_n', 'states',\n",
        "                            'states_tags', 'states_en'])"
      ]
    },
    {
      "cell_type": "markdown",
      "metadata": {
        "id": "MbcWqHaHL2uQ"
      },
      "source": [
        "Let's see what columns are left."
      ]
    },
    {
      "cell_type": "code",
      "execution_count": 325,
      "metadata": {
        "colab": {
          "base_uri": "https://localhost:8080/"
        },
        "id": "zL47JRcYP__G",
        "outputId": "70fe3eb7-8203-47e1-f2c9-833ec7428168"
      },
      "outputs": [
        {
          "output_type": "stream",
          "name": "stdout",
          "text": [
            "Open Food Facts Dataframe columns this far: \n",
            "Index(['index', 'product_name', 'brands', 'countries_en', 'ingredients_text',\n",
            "       'additives_n', 'nutrition_grade_fr', 'energy_100g', 'fat_100g',\n",
            "       'saturated-fat_100g', 'carbohydrates_100g', 'sugars_100g',\n",
            "       'proteins_100g', 'salt_100g', 'sodium_100g', 'nutrition-score-fr_100g',\n",
            "       'nutrition-score-uk_100g'],\n",
            "      dtype='object')\n"
          ]
        }
      ],
      "source": [
        "# Check again the updated dataframe\n",
        "print(\"Open Food Facts Dataframe columns this far: \")\n",
        "print(ff_df.columns)"
      ]
    },
    {
      "cell_type": "markdown",
      "metadata": {
        "id": "2PlpVcvGFXTE"
      },
      "source": [
        "Rename some columns for easier reading."
      ]
    },
    {
      "cell_type": "code",
      "execution_count": 326,
      "metadata": {
        "id": "zYwLDaSKFb26"
      },
      "outputs": [],
      "source": [
        "# Dataframe renaming\n",
        "ff_df = ff_df.rename(columns={'countries_en':'countries', 'nutrition-score-fr_100g':'nutrition_score', 'nutrition-score-uk_100g':'nutrition_score_uk',\n",
        "                              'brand-tags':'brand','nutrition_grade_fr':'nutrition_grade', 'ingredients_text':'ingredients',\n",
        "                              'energy_100g':'energy', 'fat_100g':'fat', 'saturated-fat_100g':'saturated_fat', 'carbohydrates_100g':'carbohydrates', \n",
        "                              'sugars_100g':'sugars','proteins_100g':'proteins', 'salt_100g':'salt', 'sodium_100g':'sodium'})"
      ]
    },
    {
      "cell_type": "markdown",
      "metadata": {
        "id": "ufTwYRKVPmfS"
      },
      "source": [
        "## Cleaning 'countries' and 'brands' Columns\n",
        "We will be exploring the 'countries' and 'brands' columns later. The 'countries' column specificies the country in which the product is available in English, and the 'brands' column denotes the comapny that made the product. However, these columns sometimes have multiple values represented as comma-separated strings. Let's change these columns to hold lists instead of strings (including the rows with only one value).\n",
        "\n",
        "However, we need to do some extra cleaning for 'brands'. We have to take out leading spaces because this column is comma-space-separeated. Also, some of the names are just \"nan\" denoting null. So, we have to make these null."
      ]
    },
    {
      "cell_type": "code",
      "execution_count": 327,
      "metadata": {
        "id": "YWXA4dQWRPfn"
      },
      "outputs": [],
      "source": [
        "# Process rows with 'nan' brands\n",
        "def take_out_string_nans(brands_list):\n",
        "  for i, brand in enumerate(brands_list):\n",
        "    if brand == 'nan':\n",
        "      brands_list[i] = None\n",
        "  return brands_list\n",
        "\n",
        "# Str2List for column countries and brands\n",
        "ff_df['countries'] = ff_df['countries'].apply(lambda countries_str: str(countries_str).split(','))\n",
        "ff_df['brands'] = ff_df['brands'].apply(lambda brands_str: [brand.strip().strip(\"\\\"\") for brand in str(brands_str).split(',')])\n",
        "ff_df['brands'] = ff_df['brands'].apply(lambda brands_list: take_out_string_nans(brands_list))"
      ]
    },
    {
      "cell_type": "markdown",
      "metadata": {
        "id": "z9JegmxvTAYR"
      },
      "source": [
        "Quick check:"
      ]
    },
    {
      "cell_type": "code",
      "execution_count": 328,
      "metadata": {
        "colab": {
          "base_uri": "https://localhost:8080/"
        },
        "id": "dHYvRRRkONo0",
        "outputId": "1fadce8a-7c1f-4c15-a255-82aee89b3792"
      },
      "outputs": [
        {
          "output_type": "stream",
          "name": "stdout",
          "text": [
            "Couple entries with multiple values in the 'countries' column to validate our work: \n",
            "['France', 'United States']\n",
            "['France', 'United States']\n",
            "['France', 'United Kingdom']\n",
            "['France', 'United Kingdom']\n",
            "['France', 'United Kingdom']\n",
            "\n",
            "Couple entries with multiple values in the 'brands' column to validate our work: \n",
            "['Wholesome', 'Wholesome Sweeteners']\n",
            "['Wholesome', 'Wholesome Sweeteners']\n",
            "['Kettle', 'Kettle Foods']\n",
            "['Kettle', 'Kettle Foods']\n",
            "['Kettle', 'Kettle Foods']\n"
          ]
        }
      ],
      "source": [
        "## Check again the updated dataframe\n",
        "\n",
        "print(\"Couple entries with multiple values in the 'countries' column to validate our work: \")\n",
        "count = 0\n",
        "for countries_list in ff_df['countries']:\n",
        "  if len(countries_list) > 1:\n",
        "    count += 1\n",
        "    print(countries_list)\n",
        "    if count == 5:\n",
        "      break\n",
        "\n",
        "print()\n",
        "\n",
        "print(\"Couple entries with multiple values in the 'brands' column to validate our work: \")\n",
        "count = 0\n",
        "for brands_list in ff_df['brands']:\n",
        "  if len(brands_list) > 1:\n",
        "    count += 1\n",
        "    print(brands_list)\n",
        "    if count == 5:\n",
        "      break"
      ]
    },
    {
      "cell_type": "markdown",
      "metadata": {
        "id": "C99dJuxJ1kxu"
      },
      "source": [
        "## General Cleaning"
      ]
    },
    {
      "cell_type": "markdown",
      "metadata": {
        "id": "Jt9Dy7VU1x2k"
      },
      "source": [
        "Change product names to lowercase for later use."
      ]
    },
    {
      "cell_type": "code",
      "execution_count": 329,
      "metadata": {
        "id": "_1Zlu-4Z1kkj"
      },
      "outputs": [],
      "source": [
        "# Change product name to lower case\n",
        "ff_df['product_name'] = ff_df['product_name'].str.lower() # first lower case "
      ]
    },
    {
      "cell_type": "markdown",
      "metadata": {
        "id": "DQY_8XcuNR0n"
      },
      "source": [
        "# EDA"
      ]
    },
    {
      "cell_type": "markdown",
      "source": [
        "## Exploring France and UK Nutrition Scores"
      ],
      "metadata": {
        "id": "2N533LJwryx3"
      }
    },
    {
      "cell_type": "markdown",
      "source": [
        "### First, in Pandas.\n",
        "Getting French and UK nutrition scores where they are not equal (each row will contain a product's corresponding French and UK nutritional scores). We chose to use the French score after this analysis (rationale explained in the original notebook)."
      ],
      "metadata": {
        "id": "TnwtKZkkYY47"
      }
    },
    {
      "cell_type": "code",
      "source": [
        "uk_scores = ff_df[['nutrition_score_uk','nutrition_score']].dropna()['nutrition_score_uk'].to_frame().rename(columns={'nutrition_score_uk':'nutrition_score'})\n",
        "uk_scores['version'] = 'uk'\n",
        "fr_scores = ff_df[['nutrition_score','nutrition_score_uk']].dropna()['nutrition_score'].to_frame()\n",
        "fr_scores['version'] = 'fr'\n",
        "scores = pd.concat([uk_scores,fr_scores]).reset_index(drop=True)"
      ],
      "metadata": {
        "id": "rYXQCyp6r5vc"
      },
      "execution_count": 374,
      "outputs": []
    },
    {
      "cell_type": "markdown",
      "source": [
        "### Now, in SQL."
      ],
      "metadata": {
        "id": "4omHtqB3Yi7E"
      }
    },
    {
      "cell_type": "code",
      "source": [
        "sql_ff_df = ff_df.drop(columns=['brands', 'countries']) # for now take these two cols out because SQLite doesn't support their types, we'll deal with this later\n",
        "sql_scores_query = \"\"\"\n",
        "WITH uk_scores AS (\n",
        "  SELECT nutrition_score AS nutrition_score, 'uk' AS version\n",
        "  FROM sql_ff_df\n",
        "  WHERE nutrition_score_uk IS NOT NULL\n",
        "),\n",
        "fr_scores AS (\n",
        "  SELECT nutrition_score, 'fr' AS version\n",
        "  FROM sql_ff_df\n",
        "  WHERE nutrition_score IS NOT NULL\n",
        ")\n",
        "SELECT nutrition_score, version\n",
        "FROM uk_scores\n",
        "UNION ALL\n",
        "SELECT nutrition_score, version\n",
        "FROM fr_scores;\n",
        "\"\"\"\n",
        "sql_scores = ps.sqldf(sql_scores_query, locals())"
      ],
      "metadata": {
        "id": "EecEkOscDbcW"
      },
      "execution_count": 375,
      "outputs": []
    },
    {
      "cell_type": "markdown",
      "source": [
        "### Compare Pandas and SQL Results\n",
        "\n"
      ],
      "metadata": {
        "id": "nvKlEKtkYo8b"
      }
    },
    {
      "cell_type": "code",
      "source": [
        "print(\"First Three Entries:\\n\")\n",
        "print(\"Pandas\")\n",
        "print(scores.head(3))\n",
        "print()\n",
        "print(\"SQL\")\n",
        "print(sql_scores.head(3))\n",
        "print()\n",
        "print(\"Lengths:\\n\")\n",
        "print(\"Pandas: \" + str(len(scores)))\n",
        "print(\"SQL: \" + str(len(sql_scores)))\n"
      ],
      "metadata": {
        "colab": {
          "base_uri": "https://localhost:8080/"
        },
        "id": "QDLGhiirYoMy",
        "outputId": "87cdc35a-c6a6-44ed-d36c-916819dc2da3"
      },
      "execution_count": 376,
      "outputs": [
        {
          "output_type": "stream",
          "name": "stdout",
          "text": [
            "First Three Entries:\n",
            "\n",
            "Pandas\n",
            "   nutrition_score version\n",
            "0             14.0      uk\n",
            "1              0.0      uk\n",
            "2             12.0      uk\n",
            "\n",
            "SQL\n",
            "   nutrition_score version\n",
            "0             14.0      uk\n",
            "1              0.0      uk\n",
            "2             12.0      uk\n",
            "\n",
            "Lengths:\n",
            "\n",
            "Pandas: 509712\n",
            "SQL: 509712\n"
          ]
        }
      ]
    },
    {
      "cell_type": "markdown",
      "source": [
        "\n",
        "\n",
        "Now, we focus on the entries with different scores in France and UK nutrition scoring systems."
      ],
      "metadata": {
        "id": "XxJlcrUcsawi"
      }
    },
    {
      "cell_type": "markdown",
      "source": [
        "### First, in Pandas.\n",
        "Getting the difference and absolute difference between the French and UK nutrition scores for each product where the scores don't match, as well as an indication column denoting whether the UK nutrition score was higher than the French."
      ],
      "metadata": {
        "id": "14sNg7oFd-Bd"
      }
    },
    {
      "cell_type": "code",
      "source": [
        "# Compare nutrition scores in different system\n",
        "compare_scores = ff_df[ff_df['nutrition_score']!=ff_df['nutrition_score_uk']][['product_name','brands','nutrition_score','nutrition_score_uk']].dropna()\n",
        "compare_scores['diff'] = compare_scores['nutrition_score'] - compare_scores['nutrition_score_uk']\n",
        "compare_scores['higher_uk'] = compare_scores['diff'].apply(lambda x: True if x<0 else False)\n",
        "compare_scores['abs_diff'] = compare_scores['diff'].apply(lambda x: abs(x))\n",
        "compare_scores.describe()"
      ],
      "metadata": {
        "colab": {
          "base_uri": "https://localhost:8080/",
          "height": 300
        },
        "id": "YLHEF1lqsTH_",
        "outputId": "3d4a6142-fa6b-468b-85d8-a0deb761b9ed"
      },
      "execution_count": 377,
      "outputs": [
        {
          "output_type": "execute_result",
          "data": {
            "text/plain": [
              "       nutrition_score  nutrition_score_uk          diff      abs_diff\n",
              "count     12999.000000        12999.000000  12999.000000  12999.000000\n",
              "mean         11.107624            7.499038      3.608585      7.499808\n",
              "std           5.812308            9.448135      7.528315      3.667011\n",
              "min         -10.000000           -9.000000    -14.000000      1.000000\n",
              "25%           7.000000            0.000000     -5.000000      5.000000\n",
              "50%          12.000000            2.000000      6.000000      7.000000\n",
              "75%          15.000000           18.000000     10.000000     10.000000\n",
              "max          40.000000           31.000000     21.000000     21.000000"
            ],
            "text/html": [
              "\n",
              "  <div id=\"df-c4cd7d3e-b754-4d88-8f65-254b074531fb\">\n",
              "    <div class=\"colab-df-container\">\n",
              "      <div>\n",
              "<style scoped>\n",
              "    .dataframe tbody tr th:only-of-type {\n",
              "        vertical-align: middle;\n",
              "    }\n",
              "\n",
              "    .dataframe tbody tr th {\n",
              "        vertical-align: top;\n",
              "    }\n",
              "\n",
              "    .dataframe thead th {\n",
              "        text-align: right;\n",
              "    }\n",
              "</style>\n",
              "<table border=\"1\" class=\"dataframe\">\n",
              "  <thead>\n",
              "    <tr style=\"text-align: right;\">\n",
              "      <th></th>\n",
              "      <th>nutrition_score</th>\n",
              "      <th>nutrition_score_uk</th>\n",
              "      <th>diff</th>\n",
              "      <th>abs_diff</th>\n",
              "    </tr>\n",
              "  </thead>\n",
              "  <tbody>\n",
              "    <tr>\n",
              "      <th>count</th>\n",
              "      <td>12999.000000</td>\n",
              "      <td>12999.000000</td>\n",
              "      <td>12999.000000</td>\n",
              "      <td>12999.000000</td>\n",
              "    </tr>\n",
              "    <tr>\n",
              "      <th>mean</th>\n",
              "      <td>11.107624</td>\n",
              "      <td>7.499038</td>\n",
              "      <td>3.608585</td>\n",
              "      <td>7.499808</td>\n",
              "    </tr>\n",
              "    <tr>\n",
              "      <th>std</th>\n",
              "      <td>5.812308</td>\n",
              "      <td>9.448135</td>\n",
              "      <td>7.528315</td>\n",
              "      <td>3.667011</td>\n",
              "    </tr>\n",
              "    <tr>\n",
              "      <th>min</th>\n",
              "      <td>-10.000000</td>\n",
              "      <td>-9.000000</td>\n",
              "      <td>-14.000000</td>\n",
              "      <td>1.000000</td>\n",
              "    </tr>\n",
              "    <tr>\n",
              "      <th>25%</th>\n",
              "      <td>7.000000</td>\n",
              "      <td>0.000000</td>\n",
              "      <td>-5.000000</td>\n",
              "      <td>5.000000</td>\n",
              "    </tr>\n",
              "    <tr>\n",
              "      <th>50%</th>\n",
              "      <td>12.000000</td>\n",
              "      <td>2.000000</td>\n",
              "      <td>6.000000</td>\n",
              "      <td>7.000000</td>\n",
              "    </tr>\n",
              "    <tr>\n",
              "      <th>75%</th>\n",
              "      <td>15.000000</td>\n",
              "      <td>18.000000</td>\n",
              "      <td>10.000000</td>\n",
              "      <td>10.000000</td>\n",
              "    </tr>\n",
              "    <tr>\n",
              "      <th>max</th>\n",
              "      <td>40.000000</td>\n",
              "      <td>31.000000</td>\n",
              "      <td>21.000000</td>\n",
              "      <td>21.000000</td>\n",
              "    </tr>\n",
              "  </tbody>\n",
              "</table>\n",
              "</div>\n",
              "      <button class=\"colab-df-convert\" onclick=\"convertToInteractive('df-c4cd7d3e-b754-4d88-8f65-254b074531fb')\"\n",
              "              title=\"Convert this dataframe to an interactive table.\"\n",
              "              style=\"display:none;\">\n",
              "        \n",
              "  <svg xmlns=\"http://www.w3.org/2000/svg\" height=\"24px\"viewBox=\"0 0 24 24\"\n",
              "       width=\"24px\">\n",
              "    <path d=\"M0 0h24v24H0V0z\" fill=\"none\"/>\n",
              "    <path d=\"M18.56 5.44l.94 2.06.94-2.06 2.06-.94-2.06-.94-.94-2.06-.94 2.06-2.06.94zm-11 1L8.5 8.5l.94-2.06 2.06-.94-2.06-.94L8.5 2.5l-.94 2.06-2.06.94zm10 10l.94 2.06.94-2.06 2.06-.94-2.06-.94-.94-2.06-.94 2.06-2.06.94z\"/><path d=\"M17.41 7.96l-1.37-1.37c-.4-.4-.92-.59-1.43-.59-.52 0-1.04.2-1.43.59L10.3 9.45l-7.72 7.72c-.78.78-.78 2.05 0 2.83L4 21.41c.39.39.9.59 1.41.59.51 0 1.02-.2 1.41-.59l7.78-7.78 2.81-2.81c.8-.78.8-2.07 0-2.86zM5.41 20L4 18.59l7.72-7.72 1.47 1.35L5.41 20z\"/>\n",
              "  </svg>\n",
              "      </button>\n",
              "      \n",
              "  <style>\n",
              "    .colab-df-container {\n",
              "      display:flex;\n",
              "      flex-wrap:wrap;\n",
              "      gap: 12px;\n",
              "    }\n",
              "\n",
              "    .colab-df-convert {\n",
              "      background-color: #E8F0FE;\n",
              "      border: none;\n",
              "      border-radius: 50%;\n",
              "      cursor: pointer;\n",
              "      display: none;\n",
              "      fill: #1967D2;\n",
              "      height: 32px;\n",
              "      padding: 0 0 0 0;\n",
              "      width: 32px;\n",
              "    }\n",
              "\n",
              "    .colab-df-convert:hover {\n",
              "      background-color: #E2EBFA;\n",
              "      box-shadow: 0px 1px 2px rgba(60, 64, 67, 0.3), 0px 1px 3px 1px rgba(60, 64, 67, 0.15);\n",
              "      fill: #174EA6;\n",
              "    }\n",
              "\n",
              "    [theme=dark] .colab-df-convert {\n",
              "      background-color: #3B4455;\n",
              "      fill: #D2E3FC;\n",
              "    }\n",
              "\n",
              "    [theme=dark] .colab-df-convert:hover {\n",
              "      background-color: #434B5C;\n",
              "      box-shadow: 0px 1px 3px 1px rgba(0, 0, 0, 0.15);\n",
              "      filter: drop-shadow(0px 1px 2px rgba(0, 0, 0, 0.3));\n",
              "      fill: #FFFFFF;\n",
              "    }\n",
              "  </style>\n",
              "\n",
              "      <script>\n",
              "        const buttonEl =\n",
              "          document.querySelector('#df-c4cd7d3e-b754-4d88-8f65-254b074531fb button.colab-df-convert');\n",
              "        buttonEl.style.display =\n",
              "          google.colab.kernel.accessAllowed ? 'block' : 'none';\n",
              "\n",
              "        async function convertToInteractive(key) {\n",
              "          const element = document.querySelector('#df-c4cd7d3e-b754-4d88-8f65-254b074531fb');\n",
              "          const dataTable =\n",
              "            await google.colab.kernel.invokeFunction('convertToInteractive',\n",
              "                                                     [key], {});\n",
              "          if (!dataTable) return;\n",
              "\n",
              "          const docLinkHtml = 'Like what you see? Visit the ' +\n",
              "            '<a target=\"_blank\" href=https://colab.research.google.com/notebooks/data_table.ipynb>data table notebook</a>'\n",
              "            + ' to learn more about interactive tables.';\n",
              "          element.innerHTML = '';\n",
              "          dataTable['output_type'] = 'display_data';\n",
              "          await google.colab.output.renderOutput(dataTable, element);\n",
              "          const docLink = document.createElement('div');\n",
              "          docLink.innerHTML = docLinkHtml;\n",
              "          element.appendChild(docLink);\n",
              "        }\n",
              "      </script>\n",
              "    </div>\n",
              "  </div>\n",
              "  "
            ]
          },
          "metadata": {},
          "execution_count": 377
        }
      ]
    },
    {
      "cell_type": "markdown",
      "source": [
        "### Now, in SQL."
      ],
      "metadata": {
        "id": "Gz-PhJEHbWrV"
      }
    },
    {
      "cell_type": "code",
      "source": [
        "sql_ff_df = ff_df.drop(columns=['brands', 'countries']) # (recreating so readers know what this dataframe is)\n",
        "                                                        # for now take these two cols out because SQLite doesn't\n",
        "                                                        # support their types, we'll deal with this later\n",
        "\n",
        "sql_compare_scores_query = \"\"\"\n",
        "SELECT product_name,\n",
        "        nutrition_score,\n",
        "        nutrition_score_uk,\n",
        "        nutrition_score - nutrition_score_uk AS diff,\n",
        "        CASE\n",
        "          WHEN nutrition_score_uk - nutrition_score > 0 THEN 'True'\n",
        "          ELSE 'False'\n",
        "        END AS higher_uk,\n",
        "        ABS(nutrition_score_uk - nutrition_score) AS abs_diff\n",
        "FROM  sql_ff_df\n",
        "WHERE nutrition_score != nutrition_score_uk\n",
        "  AND nutrition_score IS NOT NULL\n",
        "  AND nutrition_score_uk IS NOT NULL\n",
        "  AND product_name IS NOT NULL\n",
        ";\n",
        "\"\"\"\n",
        "\n",
        "sql_compare_scores = ps.sqldf(sql_compare_scores_query, locals())"
      ],
      "metadata": {
        "id": "ZdC5wNGNbV0J"
      },
      "execution_count": 378,
      "outputs": []
    },
    {
      "cell_type": "markdown",
      "source": [
        "### Comparison of Pandas and SQL Results"
      ],
      "metadata": {
        "id": "LQH1GIS_d76-"
      }
    },
    {
      "cell_type": "code",
      "source": [
        "pd.set_option('expand_frame_repr', False)"
      ],
      "metadata": {
        "id": "59j5C31fgPQU"
      },
      "execution_count": 379,
      "outputs": []
    },
    {
      "cell_type": "code",
      "source": [
        "print(\"First Three Entries:\\n\")\n",
        "print(\"Pandas\")\n",
        "print(compare_scores.reset_index().drop(columns=['index']).head(3)) # changing around indices a bit here for symmetry\n",
        "print()\n",
        "print(\"SQL (Note, brands is taken out because SQLite doesn't support its type)\")\n",
        "print(sql_compare_scores.head(3))\n",
        "print()\n",
        "print(\"Stats:\\n\")\n",
        "print(\"Pandas\")\n",
        "print(compare_scores.describe())\n",
        "print(\"SQL Stats\")\n",
        "print(compare_scores.describe())"
      ],
      "metadata": {
        "colab": {
          "base_uri": "https://localhost:8080/"
        },
        "id": "i3WCy-4qeONM",
        "outputId": "c03bd993-6ca9-495a-ad69-46958c1ad364"
      },
      "execution_count": 380,
      "outputs": [
        {
          "output_type": "stream",
          "name": "stdout",
          "text": [
            "First Three Entries:\n",
            "\n",
            "Pandas\n",
            "                            product_name          brands  nutrition_score  nutrition_score_uk  diff  higher_uk  abs_diff\n",
            "0                              root beer           [A&W]             18.0                 3.0  15.0      False      15.0\n",
            "1  thé noir aromatisé violette et fleurs  [Alice Délice]              2.0                 0.0   2.0      False       2.0\n",
            "2                  pepsi, nouveau goût !         [Pepsi]             13.0                 2.0  11.0      False      11.0\n",
            "\n",
            "SQL (Note, brands is taken out because SQLite doesn't support its type)\n",
            "                            product_name  nutrition_score  nutrition_score_uk  diff higher_uk  abs_diff\n",
            "0                              root beer             18.0                 3.0  15.0     False      15.0\n",
            "1  thé noir aromatisé violette et fleurs              2.0                 0.0   2.0     False       2.0\n",
            "2                  pepsi, nouveau goût !             13.0                 2.0  11.0     False      11.0\n",
            "\n",
            "Stats:\n",
            "\n",
            "Pandas\n",
            "       nutrition_score  nutrition_score_uk          diff      abs_diff\n",
            "count     12999.000000        12999.000000  12999.000000  12999.000000\n",
            "mean         11.107624            7.499038      3.608585      7.499808\n",
            "std           5.812308            9.448135      7.528315      3.667011\n",
            "min         -10.000000           -9.000000    -14.000000      1.000000\n",
            "25%           7.000000            0.000000     -5.000000      5.000000\n",
            "50%          12.000000            2.000000      6.000000      7.000000\n",
            "75%          15.000000           18.000000     10.000000     10.000000\n",
            "max          40.000000           31.000000     21.000000     21.000000\n",
            "SQL Stats\n",
            "       nutrition_score  nutrition_score_uk          diff      abs_diff\n",
            "count     12999.000000        12999.000000  12999.000000  12999.000000\n",
            "mean         11.107624            7.499038      3.608585      7.499808\n",
            "std           5.812308            9.448135      7.528315      3.667011\n",
            "min         -10.000000           -9.000000    -14.000000      1.000000\n",
            "25%           7.000000            0.000000     -5.000000      5.000000\n",
            "50%          12.000000            2.000000      6.000000      7.000000\n",
            "75%          15.000000           18.000000     10.000000     10.000000\n",
            "max          40.000000           31.000000     21.000000     21.000000\n"
          ]
        }
      ]
    },
    {
      "cell_type": "markdown",
      "metadata": {
        "id": "3PFpCVWiNU8L"
      },
      "source": [
        "## Distribution of Product Availability Across Country\n",
        "Let's visualize the distribution of the products in this dataset across countries (recall the \"countries\" column represents the countries that the product is available to be purchased in)."
      ]
    },
    {
      "cell_type": "markdown",
      "metadata": {
        "id": "1V8XpREHTbbg"
      },
      "source": [
        "Let's project two columns and explode the lists we made in the 'countries' column to make this easier."
      ]
    },
    {
      "cell_type": "code",
      "execution_count": 381,
      "metadata": {
        "id": "pZMJJJ6PThR5"
      },
      "outputs": [],
      "source": [
        "# Explode list of countries to rows\n",
        "exploded_ff_df = ff_df[['countries', 'nutrition_score']].explode('countries')"
      ]
    },
    {
      "cell_type": "markdown",
      "metadata": {
        "id": "bE6qM9nGb4pn"
      },
      "source": [
        "Let's see what countries we are left with."
      ]
    },
    {
      "cell_type": "code",
      "execution_count": 382,
      "metadata": {
        "colab": {
          "base_uri": "https://localhost:8080/"
        },
        "id": "UoKvrDMnbSJl",
        "outputId": "d5a8e9a2-1031-4921-a13e-207ce1095a11"
      },
      "outputs": [
        {
          "output_type": "execute_result",
          "data": {
            "text/plain": [
              "array(['France', 'United States', 'United Kingdom', 'Canada',\n",
              "       'Switzerland', 'Spain', 'Germany', 'Slovenia', 'Bangladesh',\n",
              "       'Italy', 'Romania', 'Australia', 'Portugal', 'Belgium',\n",
              "       'Netherlands', 'Guadeloupe', 'Dominican Republic', 'Ireland',\n",
              "       'Réunion', 'Taiwan', 'Brazil', 'Mexico', 'Saudi Arabia',\n",
              "       'United Arab Emirates', 'Iraq', 'Kuwait', 'Moldova',\n",
              "       'New Caledonia', 'nan', 'Singapore', 'Finland', 'Sweden',\n",
              "       'French Polynesia', 'New Zealand', 'Thailand', 'Panama',\n",
              "       'Costa Rica', 'Scotland', 'Trinidad and Tobago', 'China',\n",
              "       'Hong Kong', 'Luxembourg', 'Lebanon', 'Denmark', 'Belgie',\n",
              "       'Nederland', 'Malaysia', 'Guyana', 'Serbia', 'Martinique',\n",
              "       'Barbados', 'Aruba', 'Norway', 'Haiti', 'El Salvador', 'Bahrain',\n",
              "       'Guatemala', 'Morocco', 'Oman', 'South Korea', 'Chile', 'Cuba',\n",
              "       'Japan', 'Israel', 'Philippines', 'United-states-of-america',\n",
              "       'Austria', 'Guinea', 'Jordan', 'Russia',\n",
              "       'Saint Pierre and Miquelon', 'Algeria', 'fr:Quebec',\n",
              "       'Czech Republic', 'Mauritius', 'Indonesia', 'Armenia',\n",
              "       \"Côte d'Ivoire\", 'Poland', 'Greece', 'India', 'Ecuador', 'Turkey',\n",
              "       'Cambodia', '香港', 'Hungary', 'Argentina', 'European Union',\n",
              "       'Colombia', 'Qatar', 'French Guiana', 'Bulgaria', 'fr:Angleterre',\n",
              "       'fr:Grande-bretagne', 'Burkina Faso', 'Peru', 'Tunisia',\n",
              "       'Puerto Rico', 'Nigeria', 'Honduras', 'Egypt', 'Monaco', 'Cyprus',\n",
              "       'Venezuela', 'South Africa', 'Mongolia', 'Myanmar', 'Vietnam',\n",
              "       'Suriname', 'Pakistan', 'fr:Deutschland', 'Cameroon',\n",
              "       'Virgin Islands of the United States', 'Senegal', 'Slovakia',\n",
              "       'Lithuania', 'Other-العراق', 'Togo', 'Iceland', 'Angleterre',\n",
              "       'Soviet Union', 'Global-market', 'Ukraine', 'World', 'السعودية',\n",
              "       'Madagascar', 'Macau', 'ព្រះរាជាណាចក្រកម្ពុជា', '中华人民共和国',\n",
              "       'fr:Demonte-italie', 'Schweiz', 'fr:Scotland', 'fr:Frankreich',\n",
              "       'fr:Spanien', 'Albania', 'Malta', 'Croatia', 'Malawi', 'Mali',\n",
              "       'Gabon', 'Kazakhstan', 'fr:Marseille-5', 'Saint Martin',\n",
              "       'en:fresh-foods', 'en:dairies', 'Republic of the Congo', 'Mayotte',\n",
              "       'fr:Alemania', 'fr:Mauricio', 'fr:Reino-unido', 'fr:Франция',\n",
              "       'Sint Maarten', 'Vanuatu', 'Latvia',\n",
              "       'fr:Bourgogne-aube-nogent-sur-seine', 'Andorra', 'fr:Puyricard',\n",
              "       'fr:Ecosse', 'Wallis and Futuna', 'fr:Frankrijk', 'fr:Griekenland',\n",
              "       'fr:Spanje', 'Estonia', 'Niger', 'Bosnia and Herzegovina',\n",
              "       'Republic of Macedonia', 'fr:Schweiz', 'Belarus', 'Mauritania',\n",
              "       'Iran', 'Montenegro', 'Allemagne', 'Afghanistan', 'Azerbaijan',\n",
              "       '日本', 'Other-japon', 'Chad', 'Republique-de-chine', 'Sri Lanka',\n",
              "       'Georgia', 'Other-日本', 'Mozambique', 'fr:Nederland', 'Libya',\n",
              "       'fr:Irland', 'Jersey', 'Burundi',\n",
              "       'Democratic Republic of the Congo', 'Ghana', 'Guinea-Bissau',\n",
              "       'fr:Belgiqu', 'nl:Belgien', 'nl:Deutschland', 'nl:Frankreich',\n",
              "       'nl:Schweiz', 'Quebec', 'Bolivia', 'Central African Republic',\n",
              "       'العراق', 'المملكة-المتحدة', 'Angola', 'البحرين', 'Szczecin',\n",
              "       'Namibia', 'Kenya', 'Tanzania', 'Rwanda', 'Brunei', 'Somalia',\n",
              "       'سلطنة-عمان', 'Syria', 'Yemen', 'State of Palestine',\n",
              "       'Palestinian territories', 'Ap', 'Isle of Man', 'Uruguay',\n",
              "       'Paraguay', 'Ethiopia', 'Cook Islands', 'Maldives',\n",
              "       'Other-turquie', 'xx:Danemark', 'Fiji', 'भारत'], dtype=object)"
            ]
          },
          "metadata": {},
          "execution_count": 382
        }
      ],
      "source": [
        "# replace easy string inconsistencies\n",
        "\n",
        "exploded_ff_df['countries'].unique()"
      ]
    },
    {
      "cell_type": "markdown",
      "metadata": {
        "id": "7i0zqZHVb7pb"
      },
      "source": [
        "Here, we can see there are non-english (some are in French, denoted by 'fr:(country name)' and some use non-alphabetic characters) and non-standardized (Ex. 'United-states-of-america' instead of 'United States of America') entries. The vast majority of entries have capitalized, english names of countries with spaces between parts of the name as necessary. So, we just remove non-english entries and reformat non-space-separated (dash separated) entries. "
      ]
    },
    {
      "cell_type": "markdown",
      "source": [
        "### First, in Pandas."
      ],
      "metadata": {
        "id": "szPu1OqPkf0b"
      }
    },
    {
      "cell_type": "code",
      "execution_count": 383,
      "metadata": {
        "id": "AdOMnBbHeKAT"
      },
      "outputs": [],
      "source": [
        "# Country cleaning\n",
        "exploded_ff_df['countries'] = exploded_ff_df['countries'].apply(lambda country: country.replace('-', ' '))\n",
        "cleaned_exploded_ff_df = exploded_ff_df[~exploded_ff_df.countries.str.contains(r'[^\\w\\s]')] # remove names with characters that are non-letters or whitespace\n",
        "cleaned_exploded_ff_df = cleaned_exploded_ff_df[cleaned_exploded_ff_df.countries.map(lambda x: x.isascii())] # remove names with non-english characters\n",
        "# sorted(cleaned_exploded_ff_df['countries'].unique())"
      ]
    },
    {
      "cell_type": "markdown",
      "metadata": {
        "id": "TNqD5wqjiWrs"
      },
      "source": [
        "Let's check to see how many rows we removed."
      ]
    },
    {
      "cell_type": "code",
      "execution_count": 384,
      "metadata": {
        "colab": {
          "base_uri": "https://localhost:8080/"
        },
        "id": "DC1zLtllia7f",
        "outputId": "6ad8ba1b-e276-4f61-a920-efd8ffaba508"
      },
      "outputs": [
        {
          "output_type": "stream",
          "name": "stdout",
          "text": [
            "Lost 472 of 363872 rows\n"
          ]
        }
      ],
      "source": [
        "# Count the dropped rows\n",
        "print(\"Lost \" + str(exploded_ff_df.shape[0] - cleaned_exploded_ff_df.shape[0]) + \" of \" + str(exploded_ff_df.shape[0]) + \" rows\")"
      ]
    },
    {
      "cell_type": "markdown",
      "metadata": {
        "id": "VL2H5aAtlQT4"
      },
      "source": [
        "Additionally, let's remove 'Virgin Islands of the United States' (not compatible with our visualization), 'nan', 'Ap' (an abbrevation for Asia/Pacific Region), and 'World' (We didn't do this above so we could see how many rows were lost before this step). Also, there are no variations of country names except \"United States\" and \"United states of america.\" We handle that here.\n"
      ]
    },
    {
      "cell_type": "code",
      "execution_count": 385,
      "metadata": {
        "id": "QV6_88xQlPYD",
        "colab": {
          "base_uri": "https://localhost:8080/"
        },
        "outputId": "3cb4311d-1d19-40cb-d5fc-ba8beab81062"
      },
      "outputs": [
        {
          "output_type": "stream",
          "name": "stderr",
          "text": [
            "/usr/local/lib/python3.8/dist-packages/pandas/core/indexing.py:1817: SettingWithCopyWarning:\n",
            "\n",
            "\n",
            "A value is trying to be set on a copy of a slice from a DataFrame.\n",
            "Try using .loc[row_indexer,col_indexer] = value instead\n",
            "\n",
            "See the caveats in the documentation: https://pandas.pydata.org/pandas-docs/stable/user_guide/indexing.html#returning-a-view-versus-a-copy\n",
            "\n"
          ]
        }
      ],
      "source": [
        "# Country cleaning\n",
        "cleaned_exploded_ff_df = cleaned_exploded_ff_df[(cleaned_exploded_ff_df['countries'] != 'nan') & (cleaned_exploded_ff_df['countries'] != 'World') & (cleaned_exploded_ff_df['countries'] != 'Ap') & (cleaned_exploded_ff_df['countries'] != 'Virgin Islands of the United States')]\n",
        "cleaned_exploded_ff_df.loc[cleaned_exploded_ff_df[\"countries\"] == \"United states of america\"] = 'United States'\n",
        "None"
      ]
    },
    {
      "cell_type": "markdown",
      "source": [
        "### Now, in SQL. Note, I didn't explode in SQL as 'countries' is not in a supported SQLite data type."
      ],
      "metadata": {
        "id": "tUrttcw2krAt"
      }
    },
    {
      "cell_type": "code",
      "source": [
        "sql_cleaned_exploded_ff_df_query = \"\"\"\n",
        "SELECT REPLACE(countries, '-', ' ') AS countries,\n",
        "  nutrition_score\n",
        "FROM exploded_ff_df\n",
        ";\n",
        "\"\"\"\n",
        "sql_cleaned_exploded_ff_df = ps.sqldf(sql_cleaned_exploded_ff_df_query, locals())\n",
        "\n",
        "sql_cleaned_exploded_ff_df_query2 = \"\"\"\n",
        "SELECT *\n",
        "FROM sql_cleaned_exploded_ff_df\n",
        "WHERE NOT REGEXP(countries, 'r[^\\w\\s]')\n",
        "  AND countries NOT LIKE '%nan%'\n",
        "  AND countries NOT LIKE '%World%'\n",
        "  AND countries NOT LIKE '%Ap%'\n",
        "  AND countries NOT LIKE '%Virgin Islands of the United States%'\n",
        ";\n",
        "\"\"\"\n",
        "sql_cleaned_exploded_ff_df = ps.sqldf(sql_cleaned_exploded_ff_df_query2, locals())"
      ],
      "metadata": {
        "id": "jleOxtZLkpkf"
      },
      "execution_count": 398,
      "outputs": []
    },
    {
      "cell_type": "markdown",
      "source": [
        "### Comparing Pandas and SQL Results"
      ],
      "metadata": {
        "id": "Q_yTBTcJoUuY"
      }
    },
    {
      "cell_type": "code",
      "source": [
        "print(\"First Three Entries:\\n\")\n",
        "print(\"Pandas\")\n",
        "print(cleaned_exploded_ff_df.head(3))\n",
        "print()\n",
        "print(\"SQL\")\n",
        "print(sql_cleaned_exploded_ff_df.head(3))\n",
        "print()\n",
        "print(\"Lengths:\\n\")\n",
        "print(\"Pandas: \" + str(len(cleaned_exploded_ff_df)))\n",
        "print(\"SQL: \" + str(len(sql_cleaned_exploded_ff_df)))\n",
        "print()\n",
        "print(\"The difference is because I did not take out the non-ASCII countries in SQL.\")"
      ],
      "metadata": {
        "colab": {
          "base_uri": "https://localhost:8080/"
        },
        "id": "nsbedaECob0P",
        "outputId": "e0886228-7a7f-4307-f310-8a3bf9716e09"
      },
      "execution_count": 400,
      "outputs": [
        {
          "output_type": "stream",
          "name": "stdout",
          "text": [
            "First Three Entries:\n",
            "\n",
            "Pandas\n",
            "       countries nutrition_score\n",
            "0         France             NaN\n",
            "1  United States            14.0\n",
            "2  United States             0.0\n",
            "\n",
            "SQL\n",
            "       countries  nutrition_score\n",
            "0         France              NaN\n",
            "1  United States             14.0\n",
            "2  United States              0.0\n",
            "\n",
            "Lengths:\n",
            "\n",
            "Pandas: 363115\n",
            "SQL: 363171\n",
            "\n",
            "The difference is because I did not take out the non-ASCII countries in SQL.\n"
          ]
        }
      ]
    },
    {
      "cell_type": "markdown",
      "metadata": {
        "id": "-ouyixvj9O-q"
      },
      "source": [
        "## Does being \"organic\" mean that a product is Healthier? How about \"diet\" or \"lite?\"\n",
        "One common theory is that companies often use keywords like \"organic\" in a product's name to lead customers into believing a product is healthy. Here, we aim to see if this idea has some data-driven truth behind it."
      ]
    },
    {
      "cell_type": "markdown",
      "source": [
        "### First, in Pandas."
      ],
      "metadata": {
        "id": "O4mfJqiOqLLS"
      }
    },
    {
      "cell_type": "markdown",
      "metadata": {
        "id": "NWAbHBWz4m7M"
      },
      "source": [
        "Here we are getting the nutrition scores of products containing the aforementioned keywords. We separate them into separate tables for ease of analysis (analysis in the original notebook)."
      ]
    },
    {
      "cell_type": "code",
      "execution_count": 388,
      "metadata": {
        "id": "V11kfkxSzzIg"
      },
      "outputs": [],
      "source": [
        "# Filter the products with different keywords\n",
        "org_df = ff_df[(ff_df['product_name'] != None) & (ff_df.product_name.str.contains('organic'))][['product_name', 'nutrition_score']] # also taking the product name here in case reader would like to verify or for later analysis\n",
        "diet_df = ff_df[(ff_df['product_name'] != None) & (ff_df.product_name.str.contains('diet'))][['product_name', 'nutrition_score']]\n",
        "lite_df = ff_df[(ff_df['product_name'] != None) & ((ff_df.product_name.str.contains('lite')) | (ff_df.product_name.str.contains('light')))][['product_name', 'nutrition_score']]"
      ]
    },
    {
      "cell_type": "code",
      "source": [
        "healthy_keyword_nut_scores = pd.concat([org_df.rename(columns={'nutrition_score':'Organic Nutrition Scores'})['Organic Nutrition Scores'],\n",
        "                                        diet_df.rename(columns={'nutrition_score':'Diet Nutrition Scores'})['Diet Nutrition Scores'],\n",
        "                                        lite_df.rename(columns={'nutrition_score':'Lite/Light Nutrition Scores'})['Lite/Light Nutrition Scores']],\n",
        "                                        axis=1)"
      ],
      "metadata": {
        "id": "MHML07V9qZ8Y"
      },
      "execution_count": 389,
      "outputs": []
    },
    {
      "cell_type": "markdown",
      "source": [
        "### Now, in SQL. I realize I could have condensed this without using UNIONs, but I wanted to follow the logic of creating separate tables as in the Pandas version above."
      ],
      "metadata": {
        "id": "DyGzi6hFqOyh"
      }
    },
    {
      "cell_type": "code",
      "source": [
        "sql_ff_df = ff_df.drop(columns=['brands', 'countries']) # (recreating so readers know what this dataframe is)\n",
        "                                                        # for now take these two cols out because SQLite doesn't\n",
        "                                                        # support their types, we'll deal with this later\n",
        "\n",
        "sql_healthy_keyword_nut_scores_query = \"\"\"\n",
        "SELECT product_name,\n",
        "  nutrition_score\n",
        "FROM sql_ff_df\n",
        "WHERE product_name IS NOT NULL\n",
        "AND product_name LIKE '%organic%'\n",
        "\n",
        "UNION ALL\n",
        "\n",
        "SELECT product_name,\n",
        "  nutrition_score\n",
        "FROM sql_ff_df\n",
        "WHERE product_name IS NOT NULL\n",
        "AND product_name LIKE '%diet%'\n",
        "\n",
        "UNION ALL\n",
        "\n",
        "SELECT product_name,\n",
        "  nutrition_score\n",
        "FROM sql_ff_df\n",
        "WHERE product_name IS NOT NULL\n",
        "AND (product_name LIKE '%lite%' OR product_name LIKE '%light%')\n",
        "\n",
        ";\n",
        "\"\"\"\n",
        "sql_healthy_keyword_nut_scores = ps.sqldf(sql_healthy_keyword_nut_scores_query, locals())"
      ],
      "metadata": {
        "id": "6OabTOJyqeK_"
      },
      "execution_count": 390,
      "outputs": []
    },
    {
      "cell_type": "markdown",
      "source": [
        "### Compare the Pandas and SQL Results\n",
        "\n"
      ],
      "metadata": {
        "id": "W4IWpPsBtp7Z"
      }
    },
    {
      "cell_type": "code",
      "source": [
        "print(\"First Three Entries:\\n\")\n",
        "print(\"Pandas\")\n",
        "print(healthy_keyword_nut_scores.head(3))\n",
        "print()\n",
        "print(\"SQL\")\n",
        "print(sql_healthy_keyword_nut_scores.head(3))\n",
        "print()\n",
        "print(\"Lengths:\\n\")\n",
        "print(\"Pandas: \" + str(len(healthy_keyword_nut_scores)))\n",
        "print(\"SQL: \" + str(len(sql_healthy_keyword_nut_scores)))\n",
        "print()\n",
        "print(\"Note, I just combined all the Nutrition Scores into one column in SQL (most entries are not in multiple columns). I typically would use a FULL JOIN to get all columns, but full joins are not supported in SQLite.\")"
      ],
      "metadata": {
        "colab": {
          "base_uri": "https://localhost:8080/"
        },
        "id": "mCftsVVut0Aq",
        "outputId": "2aeffa6a-81e7-402a-d922-17498b16df02"
      },
      "execution_count": 401,
      "outputs": [
        {
          "output_type": "stream",
          "name": "stdout",
          "text": [
            "First Three Entries:\n",
            "\n",
            "Pandas\n",
            "   Organic Nutrition Scores  Diet Nutrition Scores  Lite/Light Nutrition Scores\n",
            "3                      12.0                    NaN                          NaN\n",
            "4                       NaN                    NaN                          NaN\n",
            "6                       NaN                    NaN                          NaN\n",
            "\n",
            "SQL\n",
            "                    product_name  nutrition_score\n",
            "0         organic salted nut mix             12.0\n",
            "1                organic polenta              NaN\n",
            "2  organic long grain white rice              NaN\n",
            "\n",
            "Lengths:\n",
            "\n",
            "Pandas: 14106\n",
            "SQL: 14215\n",
            "\n",
            "Note, I just combined all the Nutrition Scores into one column in SQL (most entries are not in multiple columns). I typically would use a FULL JOIN to get all columns, but full joins are not supported in SQLite.\n"
          ]
        }
      ]
    },
    {
      "cell_type": "markdown",
      "source": [
        "## Exploring Nutrients"
      ],
      "metadata": {
        "id": "vo_X6c2Fyrjd"
      }
    },
    {
      "cell_type": "markdown",
      "source": [
        "Except for nutrition scores, our dataset provides information about nutrients, including energy, fat, saturated fat, carbohydrates, sugars, proteins, salt, and sodium. Some nutrients are subtypes of main nutrients. In our dataset, we define main nutrients as fat, carbohydrates, proteins, and salt. Note that energy is reported in \"kJ per 100g\", and other nutrients are reported in \"g per 100g\"."
      ],
      "metadata": {
        "id": "eUjC8-I9OD3l"
      }
    },
    {
      "cell_type": "code",
      "source": [
        "# Check Nutrients\n",
        "nutrition_df = ff_df[['nutrition_score','energy', 'fat', 'saturated_fat', 'carbohydrates', 'sugars', 'proteins', 'salt', 'sodium']].dropna()\n",
        "nutrition_df['main_nutrients'] = nutrition_df['fat'] + nutrition_df['carbohydrates'] + nutrition_df['proteins'] + nutrition_df['salt']"
      ],
      "metadata": {
        "colab": {
          "base_uri": "https://localhost:8080/",
          "height": 300
        },
        "id": "CwatAzAQTK2x",
        "outputId": "cf01cf43-9875-4113-c319-98cb732fd234"
      },
      "execution_count": 392,
      "outputs": [
        {
          "output_type": "execute_result",
          "data": {
            "text/plain": [
              "       nutrition_score         energy            fat  saturated_fat  carbohydrates         sugars       proteins           salt         sodium  main_nutrients\n",
              "count    238533.000000  238533.000000  238533.000000  238533.000000  238533.000000  238533.000000  238533.000000  238533.000000  238533.000000   238533.000000\n",
              "mean          9.176877    1172.075351      13.367942       4.913337      32.433032      14.794184       7.771801       1.613533       0.635250       55.186309\n",
              "std           9.000967     768.383136      16.322374       7.441607      28.257215      19.693996       8.177840     132.369008      52.113783      136.336025\n",
              "min         -15.000000       0.000000       0.000000       0.000000       0.000000     -17.860000      -3.570000       0.000000       0.000000        0.000000\n",
              "25%           1.000000     448.000000       0.880000       0.000000       6.670000       1.200000       1.790000       0.100000       0.039370       23.550820\n",
              "50%          10.000000    1176.000000       7.140000       1.790000      22.470000       5.000000       5.650000       0.635000       0.250000       54.087220\n",
              "75%          16.000000    1711.000000      21.430000       7.100000      58.000000      22.580000      10.710000       1.353820       0.533000       88.101600\n",
              "max          40.000000   22000.000000     200.000000     100.000000     165.000000     145.000000     305.000000   64312.800000   25320.000000    64384.950000"
            ],
            "text/html": [
              "\n",
              "  <div id=\"df-1e30f7dc-0ca7-4d5f-b76e-119905cf8443\">\n",
              "    <div class=\"colab-df-container\">\n",
              "      <div>\n",
              "<style scoped>\n",
              "    .dataframe tbody tr th:only-of-type {\n",
              "        vertical-align: middle;\n",
              "    }\n",
              "\n",
              "    .dataframe tbody tr th {\n",
              "        vertical-align: top;\n",
              "    }\n",
              "\n",
              "    .dataframe thead th {\n",
              "        text-align: right;\n",
              "    }\n",
              "</style>\n",
              "<table border=\"1\" class=\"dataframe\">\n",
              "  <thead>\n",
              "    <tr style=\"text-align: right;\">\n",
              "      <th></th>\n",
              "      <th>nutrition_score</th>\n",
              "      <th>energy</th>\n",
              "      <th>fat</th>\n",
              "      <th>saturated_fat</th>\n",
              "      <th>carbohydrates</th>\n",
              "      <th>sugars</th>\n",
              "      <th>proteins</th>\n",
              "      <th>salt</th>\n",
              "      <th>sodium</th>\n",
              "      <th>main_nutrients</th>\n",
              "    </tr>\n",
              "  </thead>\n",
              "  <tbody>\n",
              "    <tr>\n",
              "      <th>count</th>\n",
              "      <td>238533.000000</td>\n",
              "      <td>238533.000000</td>\n",
              "      <td>238533.000000</td>\n",
              "      <td>238533.000000</td>\n",
              "      <td>238533.000000</td>\n",
              "      <td>238533.000000</td>\n",
              "      <td>238533.000000</td>\n",
              "      <td>238533.000000</td>\n",
              "      <td>238533.000000</td>\n",
              "      <td>238533.000000</td>\n",
              "    </tr>\n",
              "    <tr>\n",
              "      <th>mean</th>\n",
              "      <td>9.176877</td>\n",
              "      <td>1172.075351</td>\n",
              "      <td>13.367942</td>\n",
              "      <td>4.913337</td>\n",
              "      <td>32.433032</td>\n",
              "      <td>14.794184</td>\n",
              "      <td>7.771801</td>\n",
              "      <td>1.613533</td>\n",
              "      <td>0.635250</td>\n",
              "      <td>55.186309</td>\n",
              "    </tr>\n",
              "    <tr>\n",
              "      <th>std</th>\n",
              "      <td>9.000967</td>\n",
              "      <td>768.383136</td>\n",
              "      <td>16.322374</td>\n",
              "      <td>7.441607</td>\n",
              "      <td>28.257215</td>\n",
              "      <td>19.693996</td>\n",
              "      <td>8.177840</td>\n",
              "      <td>132.369008</td>\n",
              "      <td>52.113783</td>\n",
              "      <td>136.336025</td>\n",
              "    </tr>\n",
              "    <tr>\n",
              "      <th>min</th>\n",
              "      <td>-15.000000</td>\n",
              "      <td>0.000000</td>\n",
              "      <td>0.000000</td>\n",
              "      <td>0.000000</td>\n",
              "      <td>0.000000</td>\n",
              "      <td>-17.860000</td>\n",
              "      <td>-3.570000</td>\n",
              "      <td>0.000000</td>\n",
              "      <td>0.000000</td>\n",
              "      <td>0.000000</td>\n",
              "    </tr>\n",
              "    <tr>\n",
              "      <th>25%</th>\n",
              "      <td>1.000000</td>\n",
              "      <td>448.000000</td>\n",
              "      <td>0.880000</td>\n",
              "      <td>0.000000</td>\n",
              "      <td>6.670000</td>\n",
              "      <td>1.200000</td>\n",
              "      <td>1.790000</td>\n",
              "      <td>0.100000</td>\n",
              "      <td>0.039370</td>\n",
              "      <td>23.550820</td>\n",
              "    </tr>\n",
              "    <tr>\n",
              "      <th>50%</th>\n",
              "      <td>10.000000</td>\n",
              "      <td>1176.000000</td>\n",
              "      <td>7.140000</td>\n",
              "      <td>1.790000</td>\n",
              "      <td>22.470000</td>\n",
              "      <td>5.000000</td>\n",
              "      <td>5.650000</td>\n",
              "      <td>0.635000</td>\n",
              "      <td>0.250000</td>\n",
              "      <td>54.087220</td>\n",
              "    </tr>\n",
              "    <tr>\n",
              "      <th>75%</th>\n",
              "      <td>16.000000</td>\n",
              "      <td>1711.000000</td>\n",
              "      <td>21.430000</td>\n",
              "      <td>7.100000</td>\n",
              "      <td>58.000000</td>\n",
              "      <td>22.580000</td>\n",
              "      <td>10.710000</td>\n",
              "      <td>1.353820</td>\n",
              "      <td>0.533000</td>\n",
              "      <td>88.101600</td>\n",
              "    </tr>\n",
              "    <tr>\n",
              "      <th>max</th>\n",
              "      <td>40.000000</td>\n",
              "      <td>22000.000000</td>\n",
              "      <td>200.000000</td>\n",
              "      <td>100.000000</td>\n",
              "      <td>165.000000</td>\n",
              "      <td>145.000000</td>\n",
              "      <td>305.000000</td>\n",
              "      <td>64312.800000</td>\n",
              "      <td>25320.000000</td>\n",
              "      <td>64384.950000</td>\n",
              "    </tr>\n",
              "  </tbody>\n",
              "</table>\n",
              "</div>\n",
              "      <button class=\"colab-df-convert\" onclick=\"convertToInteractive('df-1e30f7dc-0ca7-4d5f-b76e-119905cf8443')\"\n",
              "              title=\"Convert this dataframe to an interactive table.\"\n",
              "              style=\"display:none;\">\n",
              "        \n",
              "  <svg xmlns=\"http://www.w3.org/2000/svg\" height=\"24px\"viewBox=\"0 0 24 24\"\n",
              "       width=\"24px\">\n",
              "    <path d=\"M0 0h24v24H0V0z\" fill=\"none\"/>\n",
              "    <path d=\"M18.56 5.44l.94 2.06.94-2.06 2.06-.94-2.06-.94-.94-2.06-.94 2.06-2.06.94zm-11 1L8.5 8.5l.94-2.06 2.06-.94-2.06-.94L8.5 2.5l-.94 2.06-2.06.94zm10 10l.94 2.06.94-2.06 2.06-.94-2.06-.94-.94-2.06-.94 2.06-2.06.94z\"/><path d=\"M17.41 7.96l-1.37-1.37c-.4-.4-.92-.59-1.43-.59-.52 0-1.04.2-1.43.59L10.3 9.45l-7.72 7.72c-.78.78-.78 2.05 0 2.83L4 21.41c.39.39.9.59 1.41.59.51 0 1.02-.2 1.41-.59l7.78-7.78 2.81-2.81c.8-.78.8-2.07 0-2.86zM5.41 20L4 18.59l7.72-7.72 1.47 1.35L5.41 20z\"/>\n",
              "  </svg>\n",
              "      </button>\n",
              "      \n",
              "  <style>\n",
              "    .colab-df-container {\n",
              "      display:flex;\n",
              "      flex-wrap:wrap;\n",
              "      gap: 12px;\n",
              "    }\n",
              "\n",
              "    .colab-df-convert {\n",
              "      background-color: #E8F0FE;\n",
              "      border: none;\n",
              "      border-radius: 50%;\n",
              "      cursor: pointer;\n",
              "      display: none;\n",
              "      fill: #1967D2;\n",
              "      height: 32px;\n",
              "      padding: 0 0 0 0;\n",
              "      width: 32px;\n",
              "    }\n",
              "\n",
              "    .colab-df-convert:hover {\n",
              "      background-color: #E2EBFA;\n",
              "      box-shadow: 0px 1px 2px rgba(60, 64, 67, 0.3), 0px 1px 3px 1px rgba(60, 64, 67, 0.15);\n",
              "      fill: #174EA6;\n",
              "    }\n",
              "\n",
              "    [theme=dark] .colab-df-convert {\n",
              "      background-color: #3B4455;\n",
              "      fill: #D2E3FC;\n",
              "    }\n",
              "\n",
              "    [theme=dark] .colab-df-convert:hover {\n",
              "      background-color: #434B5C;\n",
              "      box-shadow: 0px 1px 3px 1px rgba(0, 0, 0, 0.15);\n",
              "      filter: drop-shadow(0px 1px 2px rgba(0, 0, 0, 0.3));\n",
              "      fill: #FFFFFF;\n",
              "    }\n",
              "  </style>\n",
              "\n",
              "      <script>\n",
              "        const buttonEl =\n",
              "          document.querySelector('#df-1e30f7dc-0ca7-4d5f-b76e-119905cf8443 button.colab-df-convert');\n",
              "        buttonEl.style.display =\n",
              "          google.colab.kernel.accessAllowed ? 'block' : 'none';\n",
              "\n",
              "        async function convertToInteractive(key) {\n",
              "          const element = document.querySelector('#df-1e30f7dc-0ca7-4d5f-b76e-119905cf8443');\n",
              "          const dataTable =\n",
              "            await google.colab.kernel.invokeFunction('convertToInteractive',\n",
              "                                                     [key], {});\n",
              "          if (!dataTable) return;\n",
              "\n",
              "          const docLinkHtml = 'Like what you see? Visit the ' +\n",
              "            '<a target=\"_blank\" href=https://colab.research.google.com/notebooks/data_table.ipynb>data table notebook</a>'\n",
              "            + ' to learn more about interactive tables.';\n",
              "          element.innerHTML = '';\n",
              "          dataTable['output_type'] = 'display_data';\n",
              "          await google.colab.output.renderOutput(dataTable, element);\n",
              "          const docLink = document.createElement('div');\n",
              "          docLink.innerHTML = docLinkHtml;\n",
              "          element.appendChild(docLink);\n",
              "        }\n",
              "      </script>\n",
              "    </div>\n",
              "  </div>\n",
              "  "
            ]
          },
          "metadata": {},
          "execution_count": 392
        }
      ]
    },
    {
      "cell_type": "markdown",
      "source": [
        "We need to do some additional data cleaning based on the following data validation methods:\n",
        "\n",
        "* Any entries with more than 100g of total main nutrients are invalid data.\n",
        "* The amount of nutrients should not be less than 0.\n",
        "* The amount of any subtypes of the main nutrients is less than the amount of the main nutrient. For example, an entry is invalid when the amount of saturated fat is more than the amount of fat."
      ],
      "metadata": {
        "id": "mR57g6-GTOdI"
      }
    },
    {
      "cell_type": "markdown",
      "source": [
        "### First, with Pandas."
      ],
      "metadata": {
        "id": "VwTBzngW4GCo"
      }
    },
    {
      "cell_type": "code",
      "source": [
        "# Data cleaning: Drop invalid rows\n",
        "invalid = nutrition_df[(nutrition_df['main_nutrients']>100) | (nutrition_df['saturated_fat']>nutrition_df['fat']) |\n",
        "                       (nutrition_df['sugars']>nutrition_df['carbohydrates']) | (nutrition_df['sodium']>nutrition_df['salt'] ) |\n",
        "                       (nutrition_df['sugars']<0) | (nutrition_df['proteins']<0)]"
      ],
      "metadata": {
        "id": "MF6YWiImOGFH"
      },
      "execution_count": 393,
      "outputs": []
    },
    {
      "cell_type": "markdown",
      "source": [
        "### Now, with SQL."
      ],
      "metadata": {
        "id": "2mcIwKJ-4N3e"
      }
    },
    {
      "cell_type": "code",
      "source": [
        "sql_nutrition_df = ff_df[['nutrition_score','energy', 'fat', 'saturated_fat', 'carbohydrates', 'sugars', 'proteins', 'salt', 'sodium']].dropna()\n",
        "sql_nutrition_df['main_nutrients'] = sql_nutrition_df['fat'] + sql_nutrition_df['carbohydrates'] + sql_nutrition_df['proteins'] + sql_nutrition_df['salt']\n",
        "\n",
        "sql_nutrition_df_query = \"\"\"\n",
        "DELETE FROM sql_nutrition_df\n",
        "WHERE main_nutrients > 100\n",
        "  OR saturated_fat > fat\n",
        "  OR sugars > carbohydrates\n",
        "  OR sodium > salt\n",
        "  OR sugars < 0\n",
        "  OR proteins < 0\n",
        ";\n",
        "\"\"\"\n",
        "ps.sqldf(sql_nutrition_df_query, locals())"
      ],
      "metadata": {
        "id": "h6EZYmFB4P19"
      },
      "execution_count": 394,
      "outputs": []
    },
    {
      "cell_type": "markdown",
      "source": [
        "### Compare Pandas and SQL results."
      ],
      "metadata": {
        "id": "7Ocf17ux5k6L"
      }
    },
    {
      "cell_type": "code",
      "source": [
        "print(\"First Three Entries:\\n\")\n",
        "print(\"Pandas\")\n",
        "print(nutrition_df.head(3))\n",
        "print()\n",
        "print(\"SQL\")\n",
        "print(sql_nutrition_df.head(3))\n",
        "print()\n",
        "print(\"Lengths:\\n\")\n",
        "print(\"Pandas: \" + str(len(nutrition_df)))\n",
        "print(\"SQL: \" + str(len(sql_nutrition_df)))"
      ],
      "metadata": {
        "colab": {
          "base_uri": "https://localhost:8080/"
        },
        "id": "CiLZb-U75-P_",
        "outputId": "ffeda111-8df3-4f79-c10d-47d4f640935b"
      },
      "execution_count": 395,
      "outputs": [
        {
          "output_type": "stream",
          "name": "stdout",
          "text": [
            "First Three Entries:\n",
            "\n",
            "Pandas\n",
            "   nutrition_score  energy    fat  saturated_fat  carbohydrates  sugars  proteins     salt  sodium  main_nutrients\n",
            "1             14.0  2243.0  28.57          28.57          64.29   14.29      3.57  0.00000   0.000        96.43000\n",
            "2              0.0  1941.0  17.86           0.00          60.71   17.86     17.86  0.63500   0.250        97.06500\n",
            "3             12.0  2540.0  57.14           5.36          17.86    3.57     17.86  1.22428   0.482        94.08428\n",
            "\n",
            "SQL\n",
            "   nutrition_score  energy    fat  saturated_fat  carbohydrates  sugars  proteins     salt  sodium  main_nutrients\n",
            "1             14.0  2243.0  28.57          28.57          64.29   14.29      3.57  0.00000   0.000        96.43000\n",
            "2              0.0  1941.0  17.86           0.00          60.71   17.86     17.86  0.63500   0.250        97.06500\n",
            "3             12.0  2540.0  57.14           5.36          17.86    3.57     17.86  1.22428   0.482        94.08428\n",
            "\n",
            "Lengths:\n",
            "\n",
            "Pandas: 238533\n",
            "SQL: 238533\n"
          ]
        }
      ]
    },
    {
      "cell_type": "markdown",
      "source": [
        "## The rest of this notebook, including more EDA, Models, Obstacles Encountered, Conclusion, and Potential Next Steps, are located in the official GitHub repository of this project: https://github.com/jakezimm12/Open-Food-Facts-EDA-and-Nutritional-Value-Modeling. This notebook is to demonstrate how some the EDA could be done in SQL rather than just Pandas as in the original notebook. It is also for Jacob Zimmerman's learning. :)"
      ],
      "metadata": {
        "id": "1BIxbUpk8DgE"
      }
    }
  ],
  "metadata": {
    "colab": {
      "provenance": []
    },
    "kernelspec": {
      "display_name": "Python 3",
      "name": "python3"
    },
    "language_info": {
      "name": "python"
    }
  },
  "nbformat": 4,
  "nbformat_minor": 0
}